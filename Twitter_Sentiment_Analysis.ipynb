{
  "nbformat": 4,
  "nbformat_minor": 0,
  "metadata": {
    "colab": {
      "name": "Twitter Sentiment Analysis.ipynb",
      "provenance": [],
      "collapsed_sections": [
        "3J0S5yoJQqGD",
        "KHt-geNcVrYc",
        "ZoJEfOCQvErl",
        "ss2J_kNV28oz",
        "xpDXdOw7qSyT"
      ],
      "machine_shape": "hm",
      "authorship_tag": "ABX9TyOU9ByD4UGqvSjbWN7srllw",
      "include_colab_link": true
    },
    "kernelspec": {
      "name": "python3",
      "display_name": "Python 3"
    }
  },
  "cells": [
    {
      "cell_type": "markdown",
      "metadata": {
        "id": "view-in-github",
        "colab_type": "text"
      },
      "source": [
        "<a href=\"https://colab.research.google.com/github/poojak-shetty/Twitter-Sentiment-Analysis/blob/master/Twitter_Sentiment_Analysis.ipynb\" target=\"_parent\"><img src=\"https://colab.research.google.com/assets/colab-badge.svg\" alt=\"Open In Colab\"/></a>"
      ]
    },
    {
      "cell_type": "markdown",
      "metadata": {
        "id": "3J0S5yoJQqGD",
        "colab_type": "text"
      },
      "source": [
        "# **INTRODUCTION**"
      ]
    },
    {
      "cell_type": "markdown",
      "metadata": {
        "id": "nFAZlAweQxFI",
        "colab_type": "text"
      },
      "source": [
        "Sentiment Analysis is a technique used in text mining. It is described as a text mining technique for analyzing the underlying sentiment of a text message, i.e., a tweet. Twitter Sentiment Analysis, therefore means, using advanced text mining techniques to analyze the sentiment of the text (here, tweet) in the form of positive, negative and neutral. It is also known as Opinion Mining,which is primarily for analyzing conversations, opinions, and sharing of views (all in the form of tweets) for deciding business strategy, political analysis, and also for assessing public actions.\n",
        "As we all know NLP deals with analyzing, understanding and generating the languages that humans use naturally in order to interface with computers in both written and spoken contexts using natural human languages instead of computer languages.Here we are using natural language processing techniques to do Sentiment Analysis of the tweets."
      ]
    },
    {
      "cell_type": "markdown",
      "metadata": {
        "id": "TqIRJxHZUMoN",
        "colab_type": "text"
      },
      "source": [
        "**ABOUT THE DATASET**\n",
        "\n",
        "Our twitter sentiment analysis dataset is from [Kaggle-Twitter dataset](https://www.kaggle.com/arkhoshghalb/twitter-sentiment-analysis-hatred-speech?select=test.csv)\n",
        "\n",
        "The objective of this project is to detect hate speech in tweets. For the sake of simplicity, we say a tweet contains hate speech if it has a racist or sexist sentiment associated with it. So, the task is to classify racist or sexist tweets from other tweets.\n",
        "\n",
        "Formally, given a training sample of tweets and labels, where **label '1' denotes the tweet is racist/sexist** and **label '0' denotes the tweet is not racist/sexist**, our objective is to predict the labels on the test dataset."
      ]
    },
    {
      "cell_type": "markdown",
      "metadata": {
        "id": "KHt-geNcVrYc",
        "colab_type": "text"
      },
      "source": [
        "# **DATA PROCESSING AND CLEANING**"
      ]
    },
    {
      "cell_type": "markdown",
      "metadata": {
        "id": "NssAV2sFXnaS",
        "colab_type": "text"
      },
      "source": [
        "**IMPORTING NECESSARY LIBRARIES**"
      ]
    },
    {
      "cell_type": "code",
      "metadata": {
        "id": "k_2jLpER_KEV",
        "colab_type": "code",
        "colab": {}
      },
      "source": [
        "import numpy as np\n",
        "import pandas as pd\n",
        "import matplotlib.pyplot as plt\n",
        "\n",
        "import tensorflow as tf\n",
        "from tensorflow import keras  \n",
        "import tensorflow_datasets as tfds"
      ],
      "execution_count": 0,
      "outputs": []
    },
    {
      "cell_type": "markdown",
      "metadata": {
        "id": "q6lqxFzxXwrb",
        "colab_type": "text"
      },
      "source": [
        "**LOADING THE DATASET**\n",
        "\n",
        "\n",
        "\n"
      ]
    },
    {
      "cell_type": "code",
      "metadata": {
        "id": "nktUgo0pD8QW",
        "colab_type": "code",
        "colab": {}
      },
      "source": [
        "df=pd.read_csv(\"train.csv\")\n",
        "df1=pd.read_csv(\"test.csv\")"
      ],
      "execution_count": 0,
      "outputs": []
    },
    {
      "cell_type": "code",
      "metadata": {
        "id": "tam0iOsbEpd_",
        "colab_type": "code",
        "outputId": "b363e695-a6ac-4192-cd83-debcea5081f7",
        "colab": {
          "base_uri": "https://localhost:8080/",
          "height": 402
        }
      },
      "source": [
        "df"
      ],
      "execution_count": 0,
      "outputs": [
        {
          "output_type": "execute_result",
          "data": {
            "text/html": [
              "<div>\n",
              "<style scoped>\n",
              "    .dataframe tbody tr th:only-of-type {\n",
              "        vertical-align: middle;\n",
              "    }\n",
              "\n",
              "    .dataframe tbody tr th {\n",
              "        vertical-align: top;\n",
              "    }\n",
              "\n",
              "    .dataframe thead th {\n",
              "        text-align: right;\n",
              "    }\n",
              "</style>\n",
              "<table border=\"1\" class=\"dataframe\">\n",
              "  <thead>\n",
              "    <tr style=\"text-align: right;\">\n",
              "      <th></th>\n",
              "      <th>id</th>\n",
              "      <th>label</th>\n",
              "      <th>tweet</th>\n",
              "    </tr>\n",
              "  </thead>\n",
              "  <tbody>\n",
              "    <tr>\n",
              "      <th>0</th>\n",
              "      <td>1</td>\n",
              "      <td>0</td>\n",
              "      <td>@user when a father is dysfunctional and is s...</td>\n",
              "    </tr>\n",
              "    <tr>\n",
              "      <th>1</th>\n",
              "      <td>2</td>\n",
              "      <td>0</td>\n",
              "      <td>@user @user thanks for #lyft credit i can't us...</td>\n",
              "    </tr>\n",
              "    <tr>\n",
              "      <th>2</th>\n",
              "      <td>3</td>\n",
              "      <td>0</td>\n",
              "      <td>bihday your majesty</td>\n",
              "    </tr>\n",
              "    <tr>\n",
              "      <th>3</th>\n",
              "      <td>4</td>\n",
              "      <td>0</td>\n",
              "      <td>#model   i love u take with u all the time in ...</td>\n",
              "    </tr>\n",
              "    <tr>\n",
              "      <th>4</th>\n",
              "      <td>5</td>\n",
              "      <td>0</td>\n",
              "      <td>factsguide: society now    #motivation</td>\n",
              "    </tr>\n",
              "    <tr>\n",
              "      <th>...</th>\n",
              "      <td>...</td>\n",
              "      <td>...</td>\n",
              "      <td>...</td>\n",
              "    </tr>\n",
              "    <tr>\n",
              "      <th>31957</th>\n",
              "      <td>31958</td>\n",
              "      <td>0</td>\n",
              "      <td>ate @user isz that youuu?ðððððð...</td>\n",
              "    </tr>\n",
              "    <tr>\n",
              "      <th>31958</th>\n",
              "      <td>31959</td>\n",
              "      <td>0</td>\n",
              "      <td>to see nina turner on the airwaves trying to...</td>\n",
              "    </tr>\n",
              "    <tr>\n",
              "      <th>31959</th>\n",
              "      <td>31960</td>\n",
              "      <td>0</td>\n",
              "      <td>listening to sad songs on a monday morning otw...</td>\n",
              "    </tr>\n",
              "    <tr>\n",
              "      <th>31960</th>\n",
              "      <td>31961</td>\n",
              "      <td>1</td>\n",
              "      <td>@user #sikh #temple vandalised in in #calgary,...</td>\n",
              "    </tr>\n",
              "    <tr>\n",
              "      <th>31961</th>\n",
              "      <td>31962</td>\n",
              "      <td>0</td>\n",
              "      <td>thank you @user for you follow</td>\n",
              "    </tr>\n",
              "  </tbody>\n",
              "</table>\n",
              "<p>31962 rows × 3 columns</p>\n",
              "</div>"
            ],
            "text/plain": [
              "          id  label                                              tweet\n",
              "0          1      0   @user when a father is dysfunctional and is s...\n",
              "1          2      0  @user @user thanks for #lyft credit i can't us...\n",
              "2          3      0                                bihday your majesty\n",
              "3          4      0  #model   i love u take with u all the time in ...\n",
              "4          5      0             factsguide: society now    #motivation\n",
              "...      ...    ...                                                ...\n",
              "31957  31958      0  ate @user isz that youuu?ðððððð...\n",
              "31958  31959      0    to see nina turner on the airwaves trying to...\n",
              "31959  31960      0  listening to sad songs on a monday morning otw...\n",
              "31960  31961      1  @user #sikh #temple vandalised in in #calgary,...\n",
              "31961  31962      0                   thank you @user for you follow  \n",
              "\n",
              "[31962 rows x 3 columns]"
            ]
          },
          "metadata": {
            "tags": []
          },
          "execution_count": 100
        }
      ]
    },
    {
      "cell_type": "markdown",
      "metadata": {
        "id": "wV5LBWWGYAU2",
        "colab_type": "text"
      },
      "source": [
        "Train dataset has 3 columns(id,label and tweet)."
      ]
    },
    {
      "cell_type": "code",
      "metadata": {
        "id": "8nAfQwHOFP4f",
        "colab_type": "code",
        "outputId": "adf02ba5-341b-45b3-d009-e86ed14e02a5",
        "colab": {
          "base_uri": "https://localhost:8080/",
          "height": 402
        }
      },
      "source": [
        "df1"
      ],
      "execution_count": 0,
      "outputs": [
        {
          "output_type": "execute_result",
          "data": {
            "text/html": [
              "<div>\n",
              "<style scoped>\n",
              "    .dataframe tbody tr th:only-of-type {\n",
              "        vertical-align: middle;\n",
              "    }\n",
              "\n",
              "    .dataframe tbody tr th {\n",
              "        vertical-align: top;\n",
              "    }\n",
              "\n",
              "    .dataframe thead th {\n",
              "        text-align: right;\n",
              "    }\n",
              "</style>\n",
              "<table border=\"1\" class=\"dataframe\">\n",
              "  <thead>\n",
              "    <tr style=\"text-align: right;\">\n",
              "      <th></th>\n",
              "      <th>id</th>\n",
              "      <th>tweet</th>\n",
              "    </tr>\n",
              "  </thead>\n",
              "  <tbody>\n",
              "    <tr>\n",
              "      <th>0</th>\n",
              "      <td>31963</td>\n",
              "      <td>#studiolife #aislife #requires #passion #dedic...</td>\n",
              "    </tr>\n",
              "    <tr>\n",
              "      <th>1</th>\n",
              "      <td>31964</td>\n",
              "      <td>@user #white #supremacists want everyone to s...</td>\n",
              "    </tr>\n",
              "    <tr>\n",
              "      <th>2</th>\n",
              "      <td>31965</td>\n",
              "      <td>safe ways to heal your #acne!!    #altwaystohe...</td>\n",
              "    </tr>\n",
              "    <tr>\n",
              "      <th>3</th>\n",
              "      <td>31966</td>\n",
              "      <td>is the hp and the cursed child book up for res...</td>\n",
              "    </tr>\n",
              "    <tr>\n",
              "      <th>4</th>\n",
              "      <td>31967</td>\n",
              "      <td>3rd #bihday to my amazing, hilarious #nephew...</td>\n",
              "    </tr>\n",
              "    <tr>\n",
              "      <th>...</th>\n",
              "      <td>...</td>\n",
              "      <td>...</td>\n",
              "    </tr>\n",
              "    <tr>\n",
              "      <th>17192</th>\n",
              "      <td>49155</td>\n",
              "      <td>thought factory: left-right polarisation! #tru...</td>\n",
              "    </tr>\n",
              "    <tr>\n",
              "      <th>17193</th>\n",
              "      <td>49156</td>\n",
              "      <td>feeling like a mermaid ð #hairflip #neverre...</td>\n",
              "    </tr>\n",
              "    <tr>\n",
              "      <th>17194</th>\n",
              "      <td>49157</td>\n",
              "      <td>#hillary #campaigned today in #ohio((omg)) &amp;am...</td>\n",
              "    </tr>\n",
              "    <tr>\n",
              "      <th>17195</th>\n",
              "      <td>49158</td>\n",
              "      <td>happy, at work conference: right mindset leads...</td>\n",
              "    </tr>\n",
              "    <tr>\n",
              "      <th>17196</th>\n",
              "      <td>49159</td>\n",
              "      <td>my   song \"so glad\" free download!  #shoegaze ...</td>\n",
              "    </tr>\n",
              "  </tbody>\n",
              "</table>\n",
              "<p>17197 rows × 2 columns</p>\n",
              "</div>"
            ],
            "text/plain": [
              "          id                                              tweet\n",
              "0      31963  #studiolife #aislife #requires #passion #dedic...\n",
              "1      31964   @user #white #supremacists want everyone to s...\n",
              "2      31965  safe ways to heal your #acne!!    #altwaystohe...\n",
              "3      31966  is the hp and the cursed child book up for res...\n",
              "4      31967    3rd #bihday to my amazing, hilarious #nephew...\n",
              "...      ...                                                ...\n",
              "17192  49155  thought factory: left-right polarisation! #tru...\n",
              "17193  49156  feeling like a mermaid ð #hairflip #neverre...\n",
              "17194  49157  #hillary #campaigned today in #ohio((omg)) &am...\n",
              "17195  49158  happy, at work conference: right mindset leads...\n",
              "17196  49159  my   song \"so glad\" free download!  #shoegaze ...\n",
              "\n",
              "[17197 rows x 2 columns]"
            ]
          },
          "metadata": {
            "tags": []
          },
          "execution_count": 101
        }
      ]
    },
    {
      "cell_type": "markdown",
      "metadata": {
        "id": "hkkYZm-eYIdG",
        "colab_type": "text"
      },
      "source": [
        "Test dataset has 2 columns(id and tweet)."
      ]
    },
    {
      "cell_type": "code",
      "metadata": {
        "id": "Jk-FLVp_tYBE",
        "colab_type": "code",
        "outputId": "4ab91992-a3a1-4061-d8d7-9496cf585228",
        "colab": {
          "base_uri": "https://localhost:8080/",
          "height": 202
        }
      },
      "source": [
        "print(df.info())"
      ],
      "execution_count": 0,
      "outputs": [
        {
          "output_type": "stream",
          "text": [
            "<class 'pandas.core.frame.DataFrame'>\n",
            "RangeIndex: 31962 entries, 0 to 31961\n",
            "Data columns (total 3 columns):\n",
            " #   Column  Non-Null Count  Dtype \n",
            "---  ------  --------------  ----- \n",
            " 0   id      31962 non-null  int64 \n",
            " 1   label   31962 non-null  int64 \n",
            " 2   tweet   31962 non-null  object\n",
            "dtypes: int64(2), object(1)\n",
            "memory usage: 749.2+ KB\n",
            "None\n"
          ],
          "name": "stdout"
        }
      ]
    },
    {
      "cell_type": "code",
      "metadata": {
        "id": "UeAZJn6cYRW7",
        "colab_type": "code",
        "outputId": "62f60d79-6531-4882-ac5c-6028670ee6c1",
        "colab": {
          "base_uri": "https://localhost:8080/",
          "height": 185
        }
      },
      "source": [
        "print(df1.info())"
      ],
      "execution_count": 0,
      "outputs": [
        {
          "output_type": "stream",
          "text": [
            "<class 'pandas.core.frame.DataFrame'>\n",
            "RangeIndex: 17197 entries, 0 to 17196\n",
            "Data columns (total 2 columns):\n",
            " #   Column  Non-Null Count  Dtype \n",
            "---  ------  --------------  ----- \n",
            " 0   id      17197 non-null  int64 \n",
            " 1   tweet   17197 non-null  object\n",
            "dtypes: int64(1), object(1)\n",
            "memory usage: 268.8+ KB\n",
            "None\n"
          ],
          "name": "stdout"
        }
      ]
    },
    {
      "cell_type": "markdown",
      "metadata": {
        "id": "4SzumRJDZsOc",
        "colab_type": "text"
      },
      "source": [
        "Let's start with the datacleaning process."
      ]
    },
    {
      "cell_type": "code",
      "metadata": {
        "id": "I18umVQbSDwZ",
        "colab_type": "code",
        "colab": {}
      },
      "source": [
        "import re\n",
        "#import regular expression"
      ],
      "execution_count": 0,
      "outputs": []
    },
    {
      "cell_type": "markdown",
      "metadata": {
        "id": "uyx_poyFaKdT",
        "colab_type": "text"
      },
      "source": [
        "**REMOVING @user FROM ALL  THE TWEETS**"
      ]
    },
    {
      "cell_type": "code",
      "metadata": {
        "id": "TKXNDAKBUkL4",
        "colab_type": "code",
        "colab": {}
      },
      "source": [
        "def remove_pattern(input_txt, pattern):\n",
        "    r = re.findall(pattern, input_txt)\n",
        "    for i in r:\n",
        "        input_txt = re.sub(i, '', input_txt)\n",
        "    return input_txt"
      ],
      "execution_count": 0,
      "outputs": []
    },
    {
      "cell_type": "code",
      "metadata": {
        "id": "1rPVbdnuUmrG",
        "colab_type": "code",
        "colab": {}
      },
      "source": [
        "df['tweet'] = np.vectorize(remove_pattern)(df['tweet'], \"@[\\w]*\")\n",
        "df1['tweet'] = np.vectorize(remove_pattern)(df1['tweet'], \"@[\\w]*\")"
      ],
      "execution_count": 0,
      "outputs": []
    },
    {
      "cell_type": "code",
      "metadata": {
        "id": "j4kDmZFqU2qz",
        "colab_type": "code",
        "outputId": "6116fdbf-a364-4568-83c2-5fdc4d9d640b",
        "colab": {
          "base_uri": "https://localhost:8080/",
          "height": 195
        }
      },
      "source": [
        "df.head()"
      ],
      "execution_count": 0,
      "outputs": [
        {
          "output_type": "execute_result",
          "data": {
            "text/html": [
              "<div>\n",
              "<style scoped>\n",
              "    .dataframe tbody tr th:only-of-type {\n",
              "        vertical-align: middle;\n",
              "    }\n",
              "\n",
              "    .dataframe tbody tr th {\n",
              "        vertical-align: top;\n",
              "    }\n",
              "\n",
              "    .dataframe thead th {\n",
              "        text-align: right;\n",
              "    }\n",
              "</style>\n",
              "<table border=\"1\" class=\"dataframe\">\n",
              "  <thead>\n",
              "    <tr style=\"text-align: right;\">\n",
              "      <th></th>\n",
              "      <th>id</th>\n",
              "      <th>label</th>\n",
              "      <th>tweet</th>\n",
              "    </tr>\n",
              "  </thead>\n",
              "  <tbody>\n",
              "    <tr>\n",
              "      <th>0</th>\n",
              "      <td>1</td>\n",
              "      <td>0</td>\n",
              "      <td>when a father is dysfunctional and is so sel...</td>\n",
              "    </tr>\n",
              "    <tr>\n",
              "      <th>1</th>\n",
              "      <td>2</td>\n",
              "      <td>0</td>\n",
              "      <td>thanks for #lyft credit i can't use cause th...</td>\n",
              "    </tr>\n",
              "    <tr>\n",
              "      <th>2</th>\n",
              "      <td>3</td>\n",
              "      <td>0</td>\n",
              "      <td>bihday your majesty</td>\n",
              "    </tr>\n",
              "    <tr>\n",
              "      <th>3</th>\n",
              "      <td>4</td>\n",
              "      <td>0</td>\n",
              "      <td>#model   i love u take with u all the time in ...</td>\n",
              "    </tr>\n",
              "    <tr>\n",
              "      <th>4</th>\n",
              "      <td>5</td>\n",
              "      <td>0</td>\n",
              "      <td>factsguide: society now    #motivation</td>\n",
              "    </tr>\n",
              "  </tbody>\n",
              "</table>\n",
              "</div>"
            ],
            "text/plain": [
              "   id  label                                              tweet\n",
              "0   1      0    when a father is dysfunctional and is so sel...\n",
              "1   2      0    thanks for #lyft credit i can't use cause th...\n",
              "2   3      0                                bihday your majesty\n",
              "3   4      0  #model   i love u take with u all the time in ...\n",
              "4   5      0             factsguide: society now    #motivation"
            ]
          },
          "metadata": {
            "tags": []
          },
          "execution_count": 107
        }
      ]
    },
    {
      "cell_type": "markdown",
      "metadata": {
        "id": "TTntPI8qbxmp",
        "colab_type": "text"
      },
      "source": [
        "**CHANGING ALL THE TWEETS INTO LOWERCASE.**"
      ]
    },
    {
      "cell_type": "code",
      "metadata": {
        "id": "_5rnjSY6VPJZ",
        "colab_type": "code",
        "colab": {}
      },
      "source": [
        "df['tweet']=df['tweet'].str.lower()\n",
        "df1['tweet']=df1['tweet'].str.lower()"
      ],
      "execution_count": 0,
      "outputs": []
    },
    {
      "cell_type": "code",
      "metadata": {
        "id": "zKgfP8IsW3Dt",
        "colab_type": "code",
        "outputId": "65b306b3-725f-4ead-def4-a25163576198",
        "colab": {
          "base_uri": "https://localhost:8080/",
          "height": 195
        }
      },
      "source": [
        "df.head()"
      ],
      "execution_count": 0,
      "outputs": [
        {
          "output_type": "execute_result",
          "data": {
            "text/html": [
              "<div>\n",
              "<style scoped>\n",
              "    .dataframe tbody tr th:only-of-type {\n",
              "        vertical-align: middle;\n",
              "    }\n",
              "\n",
              "    .dataframe tbody tr th {\n",
              "        vertical-align: top;\n",
              "    }\n",
              "\n",
              "    .dataframe thead th {\n",
              "        text-align: right;\n",
              "    }\n",
              "</style>\n",
              "<table border=\"1\" class=\"dataframe\">\n",
              "  <thead>\n",
              "    <tr style=\"text-align: right;\">\n",
              "      <th></th>\n",
              "      <th>id</th>\n",
              "      <th>label</th>\n",
              "      <th>tweet</th>\n",
              "    </tr>\n",
              "  </thead>\n",
              "  <tbody>\n",
              "    <tr>\n",
              "      <th>0</th>\n",
              "      <td>1</td>\n",
              "      <td>0</td>\n",
              "      <td>when a father is dysfunctional and is so sel...</td>\n",
              "    </tr>\n",
              "    <tr>\n",
              "      <th>1</th>\n",
              "      <td>2</td>\n",
              "      <td>0</td>\n",
              "      <td>thanks for #lyft credit i can't use cause th...</td>\n",
              "    </tr>\n",
              "    <tr>\n",
              "      <th>2</th>\n",
              "      <td>3</td>\n",
              "      <td>0</td>\n",
              "      <td>bihday your majesty</td>\n",
              "    </tr>\n",
              "    <tr>\n",
              "      <th>3</th>\n",
              "      <td>4</td>\n",
              "      <td>0</td>\n",
              "      <td>#model   i love u take with u all the time in ...</td>\n",
              "    </tr>\n",
              "    <tr>\n",
              "      <th>4</th>\n",
              "      <td>5</td>\n",
              "      <td>0</td>\n",
              "      <td>factsguide: society now    #motivation</td>\n",
              "    </tr>\n",
              "  </tbody>\n",
              "</table>\n",
              "</div>"
            ],
            "text/plain": [
              "   id  label                                              tweet\n",
              "0   1      0    when a father is dysfunctional and is so sel...\n",
              "1   2      0    thanks for #lyft credit i can't use cause th...\n",
              "2   3      0                                bihday your majesty\n",
              "3   4      0  #model   i love u take with u all the time in ...\n",
              "4   5      0             factsguide: society now    #motivation"
            ]
          },
          "metadata": {
            "tags": []
          },
          "execution_count": 109
        }
      ]
    },
    {
      "cell_type": "markdown",
      "metadata": {
        "id": "M_7syPEdcZ59",
        "colab_type": "text"
      },
      "source": [
        "**CHANGE APOSTROPHE**"
      ]
    },
    {
      "cell_type": "code",
      "metadata": {
        "id": "EIQVRETWgFvZ",
        "colab_type": "code",
        "outputId": "e2f136b4-475a-4a08-e6bf-07a3e40f0ace",
        "colab": {
          "base_uri": "https://localhost:8080/",
          "height": 1000
        }
      },
      "source": [
        "# Apostrophe Dictionary\n",
        "apostrophe_dict = {\n",
        "\"ain't\": \"am not / are not\",\n",
        "\"aren't\": \"are not / am not\",\n",
        "\"can't\": \"cannot\",\n",
        "\"can't've\": \"cannot have\",\n",
        "\"'cause\": \"because\",\n",
        "\"could've\": \"could have\",\n",
        "\"couldn't\": \"could not\",\n",
        "\"couldn't've\": \"could not have\",\n",
        "\"didn't\": \"did not\",\n",
        "\"doesn't\": \"does not\",\n",
        "\"don't\": \"do not\",\n",
        "\"hadn't\": \"had not\",\n",
        "\"hadn't've\": \"had not have\",\n",
        "\"hasn't\": \"has not\",\n",
        "\"haven't\": \"have not\",\n",
        "\"he'd\": \"he had / he would\",\n",
        "\"he'd've\": \"he would have\",\n",
        "\"he'll\": \"he shall / he will\",\n",
        "\"he'll've\": \"he shall have / he will have\",\n",
        "\"he's\": \"he has / he is\",\n",
        "\"how'd\": \"how did\",\n",
        "\"how'd'y\": \"how do you\",\n",
        "\"how'll\": \"how will\",\n",
        "\"how's\": \"how has / how is\",\n",
        "\"i'd\": \"I had / I would\",\n",
        "\"i'd've\": \"I would have\",\n",
        "\"i'll\": \"I shall / I will\",\n",
        "\"i'll've\": \"I shall have / I will have\",\n",
        "\"i'm\": \"I am\",\n",
        "\"i've\": \"I have\",\n",
        "\"isn't\": \"is not\",\n",
        "\"it'd\": \"it had / it would\",\n",
        "\"it'd've\": \"it would have\",\n",
        "\"it'll\": \"it shall / it will\",\n",
        "\"it'll've\": \"it shall have / it will have\",\n",
        "\"it's\": \"it has / it is\",\n",
        "\"let's\": \"let us\",\n",
        "\"ma'am\": \"madam\",\n",
        "\"mayn't\": \"may not\",\n",
        "\"might've\": \"might have\",\n",
        "\"mightn't\": \"might not\",\n",
        "\"mightn't've\": \"might not have\",\n",
        "\"must've\": \"must have\",\n",
        "\"mustn't\": \"must not\",\n",
        "\"mustn't've\": \"must not have\",\n",
        "\"needn't\": \"need not\",\n",
        "\"needn't've\": \"need not have\",\n",
        "\"o'clock\": \"of the clock\",\n",
        "\"oughtn't\": \"ought not\",\n",
        "\"oughtn't've\": \"ought not have\",\n",
        "\"shan't\": \"shall not\",\n",
        "\"sha'n't\": \"shall not\",\n",
        "\"shan't've\": \"shall not have\",\n",
        "\"she'd\": \"she had / she would\",\n",
        "\"she'd've\": \"she would have\",\n",
        "\"she'll\": \"she shall / she will\",\n",
        "\"she'll've\": \"she shall have / she will have\",\n",
        "\"she's\": \"she has / she is\",\n",
        "\"should've\": \"should have\",\n",
        "\"shouldn't\": \"should not\",\n",
        "\"shouldn't've\": \"should not have\",\n",
        "\"so've\": \"so have\",\n",
        "\"so's\": \"so as / so is\",\n",
        "\"that'd\": \"that would / that had\",\n",
        "\"that'd've\": \"that would have\",\n",
        "\"that's\": \"that has / that is\",\n",
        "\"there'd\": \"there had / there would\",\n",
        "\"there'd've\": \"there would have\",\n",
        "\"there's\": \"there has / there is\",\n",
        "\"they'd\": \"they had / they would\",\n",
        "\"they'd've\": \"they would have\",\n",
        "\"they'll\": \"they shall / they will\",\n",
        "\"they'll've\": \"they shall have / they will have\",\n",
        "\"they're\": \"they are\",\n",
        "\"they've\": \"they have\",\n",
        "\"to've\": \"to have\",\n",
        "\"wasn't\": \"was not\",\n",
        "\"we'd\": \"we had / we would\",\n",
        "\"we'd've\": \"we would have\",\n",
        "\"we'll\": \"we will\",\n",
        "\"we'll've\": \"we will have\",\n",
        "\"we're\": \"we are\",\n",
        "\"we've\": \"we have\",\n",
        "\"weren't\": \"were not\",\n",
        "\"what'll\": \"what shall / what will\",\n",
        "\"what'll've\": \"what shall have / what will have\",\n",
        "\"what're\": \"what are\",\n",
        "\"what's\": \"what has / what is\",\n",
        "\"what've\": \"what have\",\n",
        "\"when's\": \"when has / when is\",\n",
        "\"when've\": \"when have\",\n",
        "\"where'd\": \"where did\",\n",
        "\"where's\": \"where has / where is\",\n",
        "\"where've\": \"where have\",\n",
        "\"who'll\": \"who shall / who will\",\n",
        "\"who'll've\": \"who shall have / who will have\",\n",
        "\"who's\": \"who has / who is\",\n",
        "\"who've\": \"who have\",\n",
        "\"why's\": \"why has / why is\",\n",
        "\"why've\": \"why have\",\n",
        "\"will've\": \"will have\",\n",
        "\"won't\": \"will not\",\n",
        "\"won't've\": \"will not have\",\n",
        "\"would've\": \"would have\",\n",
        "\"wouldn't\": \"would not\",\n",
        "\"wouldn't've\": \"would not have\",\n",
        "\"y'all\": \"you all\",\n",
        "\"y'all'd\": \"you all would\",\n",
        "\"y'all'd've\": \"you all would have\",\n",
        "\"y'all're\": \"you all are\",\n",
        "\"y'all've\": \"you all have\",\n",
        "\"you'd\": \"you had / you would\",\n",
        "\"you'd've\": \"you would have\",\n",
        "\"you'll\": \"you shall / you will\",\n",
        "\"you'll've\": \"you shall have / you will have\",\n",
        "\"you're\": \"you are\",\n",
        "\"you've\": \"you have\"\n",
        "}\n",
        "apostrophe_dict"
      ],
      "execution_count": 0,
      "outputs": [
        {
          "output_type": "execute_result",
          "data": {
            "text/plain": [
              "{\"'cause\": 'because',\n",
              " \"ain't\": 'am not / are not',\n",
              " \"aren't\": 'are not / am not',\n",
              " \"can't\": 'cannot',\n",
              " \"can't've\": 'cannot have',\n",
              " \"could've\": 'could have',\n",
              " \"couldn't\": 'could not',\n",
              " \"couldn't've\": 'could not have',\n",
              " \"didn't\": 'did not',\n",
              " \"doesn't\": 'does not',\n",
              " \"don't\": 'do not',\n",
              " \"hadn't\": 'had not',\n",
              " \"hadn't've\": 'had not have',\n",
              " \"hasn't\": 'has not',\n",
              " \"haven't\": 'have not',\n",
              " \"he'd\": 'he had / he would',\n",
              " \"he'd've\": 'he would have',\n",
              " \"he'll\": 'he shall / he will',\n",
              " \"he'll've\": 'he shall have / he will have',\n",
              " \"he's\": 'he has / he is',\n",
              " \"how'd\": 'how did',\n",
              " \"how'd'y\": 'how do you',\n",
              " \"how'll\": 'how will',\n",
              " \"how's\": 'how has / how is',\n",
              " \"i'd\": 'I had / I would',\n",
              " \"i'd've\": 'I would have',\n",
              " \"i'll\": 'I shall / I will',\n",
              " \"i'll've\": 'I shall have / I will have',\n",
              " \"i'm\": 'I am',\n",
              " \"i've\": 'I have',\n",
              " \"isn't\": 'is not',\n",
              " \"it'd\": 'it had / it would',\n",
              " \"it'd've\": 'it would have',\n",
              " \"it'll\": 'it shall / it will',\n",
              " \"it'll've\": 'it shall have / it will have',\n",
              " \"it's\": 'it has / it is',\n",
              " \"let's\": 'let us',\n",
              " \"ma'am\": 'madam',\n",
              " \"mayn't\": 'may not',\n",
              " \"might've\": 'might have',\n",
              " \"mightn't\": 'might not',\n",
              " \"mightn't've\": 'might not have',\n",
              " \"must've\": 'must have',\n",
              " \"mustn't\": 'must not',\n",
              " \"mustn't've\": 'must not have',\n",
              " \"needn't\": 'need not',\n",
              " \"needn't've\": 'need not have',\n",
              " \"o'clock\": 'of the clock',\n",
              " \"oughtn't\": 'ought not',\n",
              " \"oughtn't've\": 'ought not have',\n",
              " \"sha'n't\": 'shall not',\n",
              " \"shan't\": 'shall not',\n",
              " \"shan't've\": 'shall not have',\n",
              " \"she'd\": 'she had / she would',\n",
              " \"she'd've\": 'she would have',\n",
              " \"she'll\": 'she shall / she will',\n",
              " \"she'll've\": 'she shall have / she will have',\n",
              " \"she's\": 'she has / she is',\n",
              " \"should've\": 'should have',\n",
              " \"shouldn't\": 'should not',\n",
              " \"shouldn't've\": 'should not have',\n",
              " \"so's\": 'so as / so is',\n",
              " \"so've\": 'so have',\n",
              " \"that'd\": 'that would / that had',\n",
              " \"that'd've\": 'that would have',\n",
              " \"that's\": 'that has / that is',\n",
              " \"there'd\": 'there had / there would',\n",
              " \"there'd've\": 'there would have',\n",
              " \"there's\": 'there has / there is',\n",
              " \"they'd\": 'they had / they would',\n",
              " \"they'd've\": 'they would have',\n",
              " \"they'll\": 'they shall / they will',\n",
              " \"they'll've\": 'they shall have / they will have',\n",
              " \"they're\": 'they are',\n",
              " \"they've\": 'they have',\n",
              " \"to've\": 'to have',\n",
              " \"wasn't\": 'was not',\n",
              " \"we'd\": 'we had / we would',\n",
              " \"we'd've\": 'we would have',\n",
              " \"we'll\": 'we will',\n",
              " \"we'll've\": 'we will have',\n",
              " \"we're\": 'we are',\n",
              " \"we've\": 'we have',\n",
              " \"weren't\": 'were not',\n",
              " \"what'll\": 'what shall / what will',\n",
              " \"what'll've\": 'what shall have / what will have',\n",
              " \"what're\": 'what are',\n",
              " \"what's\": 'what has / what is',\n",
              " \"what've\": 'what have',\n",
              " \"when's\": 'when has / when is',\n",
              " \"when've\": 'when have',\n",
              " \"where'd\": 'where did',\n",
              " \"where's\": 'where has / where is',\n",
              " \"where've\": 'where have',\n",
              " \"who'll\": 'who shall / who will',\n",
              " \"who'll've\": 'who shall have / who will have',\n",
              " \"who's\": 'who has / who is',\n",
              " \"who've\": 'who have',\n",
              " \"why's\": 'why has / why is',\n",
              " \"why've\": 'why have',\n",
              " \"will've\": 'will have',\n",
              " \"won't\": 'will not',\n",
              " \"won't've\": 'will not have',\n",
              " \"would've\": 'would have',\n",
              " \"wouldn't\": 'would not',\n",
              " \"wouldn't've\": 'would not have',\n",
              " \"y'all\": 'you all',\n",
              " \"y'all'd\": 'you all would',\n",
              " \"y'all'd've\": 'you all would have',\n",
              " \"y'all're\": 'you all are',\n",
              " \"y'all've\": 'you all have',\n",
              " \"you'd\": 'you had / you would',\n",
              " \"you'd've\": 'you would have',\n",
              " \"you'll\": 'you shall / you will',\n",
              " \"you'll've\": 'you shall have / you will have',\n",
              " \"you're\": 'you are',\n",
              " \"you've\": 'you have'}"
            ]
          },
          "metadata": {
            "tags": []
          },
          "execution_count": 110
        }
      ]
    },
    {
      "cell_type": "code",
      "metadata": {
        "id": "qsGu0KZyghC1",
        "colab_type": "code",
        "colab": {}
      },
      "source": [
        "def lookup_dict(text, dictionary):\n",
        "    for word in text.split():\n",
        "        if word.lower() in dictionary:\n",
        "            if word.lower() in text.split():\n",
        "                text = text.replace(word, dictionary[word.lower()])\n",
        "    return text"
      ],
      "execution_count": 0,
      "outputs": []
    },
    {
      "cell_type": "code",
      "metadata": {
        "id": "3-c8Cp_Octdm",
        "colab_type": "code",
        "colab": {}
      },
      "source": [
        "df['tweet'] = df['tweet'].apply(lambda x: lookup_dict(x,apostrophe_dict))\n",
        "df1['tweet'] = df1['tweet'].apply(lambda x: lookup_dict(x,apostrophe_dict))"
      ],
      "execution_count": 0,
      "outputs": []
    },
    {
      "cell_type": "markdown",
      "metadata": {
        "id": "2e_cv1ohc8uc",
        "colab_type": "text"
      },
      "source": [
        "**CHANGE THE EMOJIS**"
      ]
    },
    {
      "cell_type": "code",
      "metadata": {
        "id": "dQl53yWeXTBB",
        "colab_type": "code",
        "colab": {}
      },
      "source": [
        "emotion_dict = {\n",
        "\":)\": \"happy\",\n",
        "\":‑)\": \"happy\",\n",
        "\":-]\": \"happy\",\n",
        "\":-3\": \"happy\",\n",
        "\":->\": \"happy\",\n",
        "\"8-)\": \"happy\",\n",
        "\":-}\": \"happy\",\n",
        "\":o)\": \"happy\",\n",
        "\":o\": \"happy\",\n",
        "\":c)\": \"happy\",\n",
        "\":^)\": \"happy\",\n",
        "\"=]\": \"happy\",\n",
        "\"=)\": \"happy\",\n",
        "\"<3\": \"happy\",\n",
        "\":-(\": \"sad\",\n",
        "\":(\": \"sad\",\n",
        "\":c\": \"sad\",\n",
        "\":<\": \"sad\",\n",
        "\":[\": \"sad\",\n",
        "\">:[\": \"sad\",\n",
        "\":{\": \"sad\",\n",
        "\">:(\": \"sad\",\n",
        "\":-c\": \"sad\",\n",
        "\":-< \": \"sad\",\n",
        "\":-[\": \"sad\",\n",
        "\":-||\": \"sad\"\n",
        "}"
      ],
      "execution_count": 0,
      "outputs": []
    },
    {
      "cell_type": "code",
      "metadata": {
        "id": "maePkLmgZLCb",
        "colab_type": "code",
        "outputId": "9d9fd4d8-4548-482e-d6d5-7af8ac769ccc",
        "colab": {
          "base_uri": "https://localhost:8080/",
          "height": 454
        }
      },
      "source": [
        "emotion_dict"
      ],
      "execution_count": 0,
      "outputs": [
        {
          "output_type": "execute_result",
          "data": {
            "text/plain": [
              "{'8-)': 'happy',\n",
              " ':(': 'sad',\n",
              " ':)': 'happy',\n",
              " ':-(': 'sad',\n",
              " ':-3': 'happy',\n",
              " ':-< ': 'sad',\n",
              " ':->': 'happy',\n",
              " ':-[': 'sad',\n",
              " ':-]': 'happy',\n",
              " ':-c': 'sad',\n",
              " ':-||': 'sad',\n",
              " ':-}': 'happy',\n",
              " ':<': 'sad',\n",
              " ':[': 'sad',\n",
              " ':^)': 'happy',\n",
              " ':c': 'sad',\n",
              " ':c)': 'happy',\n",
              " ':o': 'happy',\n",
              " ':o)': 'happy',\n",
              " ':{': 'sad',\n",
              " ':‑)': 'happy',\n",
              " '<3': 'happy',\n",
              " '=)': 'happy',\n",
              " '=]': 'happy',\n",
              " '>:(': 'sad',\n",
              " '>:[': 'sad'}"
            ]
          },
          "metadata": {
            "tags": []
          },
          "execution_count": 114
        }
      ]
    },
    {
      "cell_type": "code",
      "metadata": {
        "id": "nrAjAjXfZPe5",
        "colab_type": "code",
        "colab": {}
      },
      "source": [
        "df['tweet'] = df['tweet'].apply(lambda x: lookup_dict(x,emotion_dict))\n",
        "df1['tweet'] = df1['tweet'].apply(lambda x: lookup_dict(x,emotion_dict))"
      ],
      "execution_count": 0,
      "outputs": []
    },
    {
      "cell_type": "code",
      "metadata": {
        "id": "ZKUinbRBaR--",
        "colab_type": "code",
        "outputId": "a42a1797-05f9-4f32-d3f9-a6717024d174",
        "colab": {
          "base_uri": "https://localhost:8080/",
          "height": 195
        }
      },
      "source": [
        "df.head()"
      ],
      "execution_count": 0,
      "outputs": [
        {
          "output_type": "execute_result",
          "data": {
            "text/html": [
              "<div>\n",
              "<style scoped>\n",
              "    .dataframe tbody tr th:only-of-type {\n",
              "        vertical-align: middle;\n",
              "    }\n",
              "\n",
              "    .dataframe tbody tr th {\n",
              "        vertical-align: top;\n",
              "    }\n",
              "\n",
              "    .dataframe thead th {\n",
              "        text-align: right;\n",
              "    }\n",
              "</style>\n",
              "<table border=\"1\" class=\"dataframe\">\n",
              "  <thead>\n",
              "    <tr style=\"text-align: right;\">\n",
              "      <th></th>\n",
              "      <th>id</th>\n",
              "      <th>label</th>\n",
              "      <th>tweet</th>\n",
              "    </tr>\n",
              "  </thead>\n",
              "  <tbody>\n",
              "    <tr>\n",
              "      <th>0</th>\n",
              "      <td>1</td>\n",
              "      <td>0</td>\n",
              "      <td>when a father is dysfunctional and is so sel...</td>\n",
              "    </tr>\n",
              "    <tr>\n",
              "      <th>1</th>\n",
              "      <td>2</td>\n",
              "      <td>0</td>\n",
              "      <td>thanks for #lyft credit i cannot use cause t...</td>\n",
              "    </tr>\n",
              "    <tr>\n",
              "      <th>2</th>\n",
              "      <td>3</td>\n",
              "      <td>0</td>\n",
              "      <td>bihday your majesty</td>\n",
              "    </tr>\n",
              "    <tr>\n",
              "      <th>3</th>\n",
              "      <td>4</td>\n",
              "      <td>0</td>\n",
              "      <td>#model   i love u take with u all the time in ...</td>\n",
              "    </tr>\n",
              "    <tr>\n",
              "      <th>4</th>\n",
              "      <td>5</td>\n",
              "      <td>0</td>\n",
              "      <td>factsguide: society now    #motivation</td>\n",
              "    </tr>\n",
              "  </tbody>\n",
              "</table>\n",
              "</div>"
            ],
            "text/plain": [
              "   id  label                                              tweet\n",
              "0   1      0    when a father is dysfunctional and is so sel...\n",
              "1   2      0    thanks for #lyft credit i cannot use cause t...\n",
              "2   3      0                                bihday your majesty\n",
              "3   4      0  #model   i love u take with u all the time in ...\n",
              "4   5      0             factsguide: society now    #motivation"
            ]
          },
          "metadata": {
            "tags": []
          },
          "execution_count": 116
        }
      ]
    },
    {
      "cell_type": "code",
      "metadata": {
        "id": "tKKAgiYGdSYh",
        "colab_type": "code",
        "outputId": "ff4eea4e-6d8b-47ed-a784-89a62934642d",
        "colab": {
          "base_uri": "https://localhost:8080/",
          "height": 195
        }
      },
      "source": [
        "df1.head()"
      ],
      "execution_count": 0,
      "outputs": [
        {
          "output_type": "execute_result",
          "data": {
            "text/html": [
              "<div>\n",
              "<style scoped>\n",
              "    .dataframe tbody tr th:only-of-type {\n",
              "        vertical-align: middle;\n",
              "    }\n",
              "\n",
              "    .dataframe tbody tr th {\n",
              "        vertical-align: top;\n",
              "    }\n",
              "\n",
              "    .dataframe thead th {\n",
              "        text-align: right;\n",
              "    }\n",
              "</style>\n",
              "<table border=\"1\" class=\"dataframe\">\n",
              "  <thead>\n",
              "    <tr style=\"text-align: right;\">\n",
              "      <th></th>\n",
              "      <th>id</th>\n",
              "      <th>tweet</th>\n",
              "    </tr>\n",
              "  </thead>\n",
              "  <tbody>\n",
              "    <tr>\n",
              "      <th>0</th>\n",
              "      <td>31963</td>\n",
              "      <td>#studiolife #aislife #requires #passion #dedic...</td>\n",
              "    </tr>\n",
              "    <tr>\n",
              "      <th>1</th>\n",
              "      <td>31964</td>\n",
              "      <td>#white #supremacists want everyone to see th...</td>\n",
              "    </tr>\n",
              "    <tr>\n",
              "      <th>2</th>\n",
              "      <td>31965</td>\n",
              "      <td>safe ways to heal your #acne!!    #altwaystohe...</td>\n",
              "    </tr>\n",
              "    <tr>\n",
              "      <th>3</th>\n",
              "      <td>31966</td>\n",
              "      <td>is the hp and the cursed child book up for res...</td>\n",
              "    </tr>\n",
              "    <tr>\n",
              "      <th>4</th>\n",
              "      <td>31967</td>\n",
              "      <td>3rd #bihday to my amazing, hilarious #nephew...</td>\n",
              "    </tr>\n",
              "  </tbody>\n",
              "</table>\n",
              "</div>"
            ],
            "text/plain": [
              "      id                                              tweet\n",
              "0  31963  #studiolife #aislife #requires #passion #dedic...\n",
              "1  31964    #white #supremacists want everyone to see th...\n",
              "2  31965  safe ways to heal your #acne!!    #altwaystohe...\n",
              "3  31966  is the hp and the cursed child book up for res...\n",
              "4  31967    3rd #bihday to my amazing, hilarious #nephew..."
            ]
          },
          "metadata": {
            "tags": []
          },
          "execution_count": 117
        }
      ]
    },
    {
      "cell_type": "markdown",
      "metadata": {
        "id": "aTMsC-GoeS8H",
        "colab_type": "text"
      },
      "source": [
        "**REPLACING PUNCTUATIONS WITH SPACE**"
      ]
    },
    {
      "cell_type": "code",
      "metadata": {
        "id": "ns5n1zKShHGy",
        "colab_type": "code",
        "colab": {}
      },
      "source": [
        "df['tweet'] = df['tweet'].apply(lambda x: re.sub(r'[^\\w\\s]',' ',x))\n",
        "df1['tweet'] = df1['tweet'].apply(lambda x: re.sub(r'[^\\w\\s]',' ',x))"
      ],
      "execution_count": 0,
      "outputs": []
    },
    {
      "cell_type": "code",
      "metadata": {
        "id": "9id_H2W_e2nh",
        "colab_type": "code",
        "outputId": "66e8777e-dea5-4020-bd1a-699fc0705798",
        "colab": {
          "base_uri": "https://localhost:8080/",
          "height": 195
        }
      },
      "source": [
        "df.head()"
      ],
      "execution_count": 0,
      "outputs": [
        {
          "output_type": "execute_result",
          "data": {
            "text/html": [
              "<div>\n",
              "<style scoped>\n",
              "    .dataframe tbody tr th:only-of-type {\n",
              "        vertical-align: middle;\n",
              "    }\n",
              "\n",
              "    .dataframe tbody tr th {\n",
              "        vertical-align: top;\n",
              "    }\n",
              "\n",
              "    .dataframe thead th {\n",
              "        text-align: right;\n",
              "    }\n",
              "</style>\n",
              "<table border=\"1\" class=\"dataframe\">\n",
              "  <thead>\n",
              "    <tr style=\"text-align: right;\">\n",
              "      <th></th>\n",
              "      <th>id</th>\n",
              "      <th>label</th>\n",
              "      <th>tweet</th>\n",
              "    </tr>\n",
              "  </thead>\n",
              "  <tbody>\n",
              "    <tr>\n",
              "      <th>0</th>\n",
              "      <td>1</td>\n",
              "      <td>0</td>\n",
              "      <td>when a father is dysfunctional and is so sel...</td>\n",
              "    </tr>\n",
              "    <tr>\n",
              "      <th>1</th>\n",
              "      <td>2</td>\n",
              "      <td>0</td>\n",
              "      <td>thanks for  lyft credit i cannot use cause t...</td>\n",
              "    </tr>\n",
              "    <tr>\n",
              "      <th>2</th>\n",
              "      <td>3</td>\n",
              "      <td>0</td>\n",
              "      <td>bihday your majesty</td>\n",
              "    </tr>\n",
              "    <tr>\n",
              "      <th>3</th>\n",
              "      <td>4</td>\n",
              "      <td>0</td>\n",
              "      <td>model   i love u take with u all the time in ...</td>\n",
              "    </tr>\n",
              "    <tr>\n",
              "      <th>4</th>\n",
              "      <td>5</td>\n",
              "      <td>0</td>\n",
              "      <td>factsguide  society now     motivation</td>\n",
              "    </tr>\n",
              "  </tbody>\n",
              "</table>\n",
              "</div>"
            ],
            "text/plain": [
              "   id  label                                              tweet\n",
              "0   1      0    when a father is dysfunctional and is so sel...\n",
              "1   2      0    thanks for  lyft credit i cannot use cause t...\n",
              "2   3      0                                bihday your majesty\n",
              "3   4      0   model   i love u take with u all the time in ...\n",
              "4   5      0             factsguide  society now     motivation"
            ]
          },
          "metadata": {
            "tags": []
          },
          "execution_count": 119
        }
      ]
    },
    {
      "cell_type": "code",
      "metadata": {
        "id": "536WMAGnRJsH",
        "colab_type": "code",
        "outputId": "496536fb-dd2c-4929-e71a-fa7cb4b5efe3",
        "colab": {
          "base_uri": "https://localhost:8080/",
          "height": 195
        }
      },
      "source": [
        "df1.head()"
      ],
      "execution_count": 0,
      "outputs": [
        {
          "output_type": "execute_result",
          "data": {
            "text/html": [
              "<div>\n",
              "<style scoped>\n",
              "    .dataframe tbody tr th:only-of-type {\n",
              "        vertical-align: middle;\n",
              "    }\n",
              "\n",
              "    .dataframe tbody tr th {\n",
              "        vertical-align: top;\n",
              "    }\n",
              "\n",
              "    .dataframe thead th {\n",
              "        text-align: right;\n",
              "    }\n",
              "</style>\n",
              "<table border=\"1\" class=\"dataframe\">\n",
              "  <thead>\n",
              "    <tr style=\"text-align: right;\">\n",
              "      <th></th>\n",
              "      <th>id</th>\n",
              "      <th>tweet</th>\n",
              "    </tr>\n",
              "  </thead>\n",
              "  <tbody>\n",
              "    <tr>\n",
              "      <th>0</th>\n",
              "      <td>31963</td>\n",
              "      <td>studiolife  aislife  requires  passion  dedic...</td>\n",
              "    </tr>\n",
              "    <tr>\n",
              "      <th>1</th>\n",
              "      <td>31964</td>\n",
              "      <td>white  supremacists want everyone to see th...</td>\n",
              "    </tr>\n",
              "    <tr>\n",
              "      <th>2</th>\n",
              "      <td>31965</td>\n",
              "      <td>safe ways to heal your  acne       altwaystohe...</td>\n",
              "    </tr>\n",
              "    <tr>\n",
              "      <th>3</th>\n",
              "      <td>31966</td>\n",
              "      <td>is the hp and the cursed child book up for res...</td>\n",
              "    </tr>\n",
              "    <tr>\n",
              "      <th>4</th>\n",
              "      <td>31967</td>\n",
              "      <td>3rd  bihday to my amazing  hilarious  nephew...</td>\n",
              "    </tr>\n",
              "  </tbody>\n",
              "</table>\n",
              "</div>"
            ],
            "text/plain": [
              "      id                                              tweet\n",
              "0  31963   studiolife  aislife  requires  passion  dedic...\n",
              "1  31964     white  supremacists want everyone to see th...\n",
              "2  31965  safe ways to heal your  acne       altwaystohe...\n",
              "3  31966  is the hp and the cursed child book up for res...\n",
              "4  31967    3rd  bihday to my amazing  hilarious  nephew..."
            ]
          },
          "metadata": {
            "tags": []
          },
          "execution_count": 120
        }
      ]
    },
    {
      "cell_type": "markdown",
      "metadata": {
        "id": "HFtkwXFRfAGa",
        "colab_type": "text"
      },
      "source": [
        "**REPLACING SPECIAL CHARACTER WITH SPACES**"
      ]
    },
    {
      "cell_type": "code",
      "metadata": {
        "id": "xUgEquETbePf",
        "colab_type": "code",
        "colab": {}
      },
      "source": [
        "df['tweet'] =df['tweet'].apply(lambda x: re.sub(r'[^a-zA-Z0-9]',' ',x))\n",
        "df1['tweet'] =df1['tweet'].apply(lambda x: re.sub(r'[^a-zA-Z0-9]',' ',x))"
      ],
      "execution_count": 0,
      "outputs": []
    },
    {
      "cell_type": "code",
      "metadata": {
        "id": "tWbKmQZ5fV5x",
        "colab_type": "code",
        "outputId": "518b93e3-3b80-4440-a0e2-376897f69723",
        "colab": {
          "base_uri": "https://localhost:8080/",
          "height": 195
        }
      },
      "source": [
        "df1.head()"
      ],
      "execution_count": 0,
      "outputs": [
        {
          "output_type": "execute_result",
          "data": {
            "text/html": [
              "<div>\n",
              "<style scoped>\n",
              "    .dataframe tbody tr th:only-of-type {\n",
              "        vertical-align: middle;\n",
              "    }\n",
              "\n",
              "    .dataframe tbody tr th {\n",
              "        vertical-align: top;\n",
              "    }\n",
              "\n",
              "    .dataframe thead th {\n",
              "        text-align: right;\n",
              "    }\n",
              "</style>\n",
              "<table border=\"1\" class=\"dataframe\">\n",
              "  <thead>\n",
              "    <tr style=\"text-align: right;\">\n",
              "      <th></th>\n",
              "      <th>id</th>\n",
              "      <th>tweet</th>\n",
              "    </tr>\n",
              "  </thead>\n",
              "  <tbody>\n",
              "    <tr>\n",
              "      <th>0</th>\n",
              "      <td>31963</td>\n",
              "      <td>studiolife  aislife  requires  passion  dedic...</td>\n",
              "    </tr>\n",
              "    <tr>\n",
              "      <th>1</th>\n",
              "      <td>31964</td>\n",
              "      <td>white  supremacists want everyone to see th...</td>\n",
              "    </tr>\n",
              "    <tr>\n",
              "      <th>2</th>\n",
              "      <td>31965</td>\n",
              "      <td>safe ways to heal your  acne       altwaystohe...</td>\n",
              "    </tr>\n",
              "    <tr>\n",
              "      <th>3</th>\n",
              "      <td>31966</td>\n",
              "      <td>is the hp and the cursed child book up for res...</td>\n",
              "    </tr>\n",
              "    <tr>\n",
              "      <th>4</th>\n",
              "      <td>31967</td>\n",
              "      <td>3rd  bihday to my amazing  hilarious  nephew...</td>\n",
              "    </tr>\n",
              "  </tbody>\n",
              "</table>\n",
              "</div>"
            ],
            "text/plain": [
              "      id                                              tweet\n",
              "0  31963   studiolife  aislife  requires  passion  dedic...\n",
              "1  31964     white  supremacists want everyone to see th...\n",
              "2  31965  safe ways to heal your  acne       altwaystohe...\n",
              "3  31966  is the hp and the cursed child book up for res...\n",
              "4  31967    3rd  bihday to my amazing  hilarious  nephew..."
            ]
          },
          "metadata": {
            "tags": []
          },
          "execution_count": 122
        }
      ]
    },
    {
      "cell_type": "markdown",
      "metadata": {
        "id": "E5-ZM7_dfj06",
        "colab_type": "text"
      },
      "source": [
        "**REPLACING NUMBERS WITH SPACES**"
      ]
    },
    {
      "cell_type": "code",
      "metadata": {
        "id": "rTEAqyOYvyTm",
        "colab_type": "code",
        "colab": {}
      },
      "source": [
        "df['tweet'] = df['tweet'].apply(lambda x: re.sub(r'[^a-zA-Z]',' ',x))\n",
        "df1['tweet'] = df1['tweet'].apply(lambda x: re.sub(r'[^a-zA-Z]',' ',x))"
      ],
      "execution_count": 0,
      "outputs": []
    },
    {
      "cell_type": "code",
      "metadata": {
        "id": "SCJ8SSE7gLz0",
        "colab_type": "code",
        "outputId": "c4ba2f8c-608f-45cf-9fc8-d221057de579",
        "colab": {
          "base_uri": "https://localhost:8080/",
          "height": 195
        }
      },
      "source": [
        "df1.head()"
      ],
      "execution_count": 0,
      "outputs": [
        {
          "output_type": "execute_result",
          "data": {
            "text/html": [
              "<div>\n",
              "<style scoped>\n",
              "    .dataframe tbody tr th:only-of-type {\n",
              "        vertical-align: middle;\n",
              "    }\n",
              "\n",
              "    .dataframe tbody tr th {\n",
              "        vertical-align: top;\n",
              "    }\n",
              "\n",
              "    .dataframe thead th {\n",
              "        text-align: right;\n",
              "    }\n",
              "</style>\n",
              "<table border=\"1\" class=\"dataframe\">\n",
              "  <thead>\n",
              "    <tr style=\"text-align: right;\">\n",
              "      <th></th>\n",
              "      <th>id</th>\n",
              "      <th>tweet</th>\n",
              "    </tr>\n",
              "  </thead>\n",
              "  <tbody>\n",
              "    <tr>\n",
              "      <th>0</th>\n",
              "      <td>31963</td>\n",
              "      <td>studiolife  aislife  requires  passion  dedic...</td>\n",
              "    </tr>\n",
              "    <tr>\n",
              "      <th>1</th>\n",
              "      <td>31964</td>\n",
              "      <td>white  supremacists want everyone to see th...</td>\n",
              "    </tr>\n",
              "    <tr>\n",
              "      <th>2</th>\n",
              "      <td>31965</td>\n",
              "      <td>safe ways to heal your  acne       altwaystohe...</td>\n",
              "    </tr>\n",
              "    <tr>\n",
              "      <th>3</th>\n",
              "      <td>31966</td>\n",
              "      <td>is the hp and the cursed child book up for res...</td>\n",
              "    </tr>\n",
              "    <tr>\n",
              "      <th>4</th>\n",
              "      <td>31967</td>\n",
              "      <td>rd  bihday to my amazing  hilarious  nephew...</td>\n",
              "    </tr>\n",
              "  </tbody>\n",
              "</table>\n",
              "</div>"
            ],
            "text/plain": [
              "      id                                              tweet\n",
              "0  31963   studiolife  aislife  requires  passion  dedic...\n",
              "1  31964     white  supremacists want everyone to see th...\n",
              "2  31965  safe ways to heal your  acne       altwaystohe...\n",
              "3  31966  is the hp and the cursed child book up for res...\n",
              "4  31967     rd  bihday to my amazing  hilarious  nephew..."
            ]
          },
          "metadata": {
            "tags": []
          },
          "execution_count": 124
        }
      ]
    },
    {
      "cell_type": "markdown",
      "metadata": {
        "id": "Wl6tvYpYmwjN",
        "colab_type": "text"
      },
      "source": [
        "**REMOVING WORDS WHOM LENGTH IS 1**"
      ]
    },
    {
      "cell_type": "code",
      "metadata": {
        "id": "lL6L9ASOgLtx",
        "colab_type": "code",
        "colab": {}
      },
      "source": [
        "df['tweet'] = df['tweet'].apply(lambda x: ' '.join([w for w in x.split() if len(w)>1]))\n",
        "df1['tweet'] = df1['tweet'].apply(lambda x: ' '.join([w for w in x.split() if len(w)>1]))"
      ],
      "execution_count": 0,
      "outputs": []
    },
    {
      "cell_type": "code",
      "metadata": {
        "id": "nIP0sqWdgLsL",
        "colab_type": "code",
        "outputId": "d26c703d-31f0-4c9b-8cea-d101f3628c7b",
        "colab": {
          "base_uri": "https://localhost:8080/",
          "height": 195
        }
      },
      "source": [
        "df.head()"
      ],
      "execution_count": 0,
      "outputs": [
        {
          "output_type": "execute_result",
          "data": {
            "text/html": [
              "<div>\n",
              "<style scoped>\n",
              "    .dataframe tbody tr th:only-of-type {\n",
              "        vertical-align: middle;\n",
              "    }\n",
              "\n",
              "    .dataframe tbody tr th {\n",
              "        vertical-align: top;\n",
              "    }\n",
              "\n",
              "    .dataframe thead th {\n",
              "        text-align: right;\n",
              "    }\n",
              "</style>\n",
              "<table border=\"1\" class=\"dataframe\">\n",
              "  <thead>\n",
              "    <tr style=\"text-align: right;\">\n",
              "      <th></th>\n",
              "      <th>id</th>\n",
              "      <th>label</th>\n",
              "      <th>tweet</th>\n",
              "    </tr>\n",
              "  </thead>\n",
              "  <tbody>\n",
              "    <tr>\n",
              "      <th>0</th>\n",
              "      <td>1</td>\n",
              "      <td>0</td>\n",
              "      <td>when father is dysfunctional and is so selfish...</td>\n",
              "    </tr>\n",
              "    <tr>\n",
              "      <th>1</th>\n",
              "      <td>2</td>\n",
              "      <td>0</td>\n",
              "      <td>thanks for lyft credit cannot use cause they d...</td>\n",
              "    </tr>\n",
              "    <tr>\n",
              "      <th>2</th>\n",
              "      <td>3</td>\n",
              "      <td>0</td>\n",
              "      <td>bihday your majesty</td>\n",
              "    </tr>\n",
              "    <tr>\n",
              "      <th>3</th>\n",
              "      <td>4</td>\n",
              "      <td>0</td>\n",
              "      <td>model love take with all the time in ur</td>\n",
              "    </tr>\n",
              "    <tr>\n",
              "      <th>4</th>\n",
              "      <td>5</td>\n",
              "      <td>0</td>\n",
              "      <td>factsguide society now motivation</td>\n",
              "    </tr>\n",
              "  </tbody>\n",
              "</table>\n",
              "</div>"
            ],
            "text/plain": [
              "   id  label                                              tweet\n",
              "0   1      0  when father is dysfunctional and is so selfish...\n",
              "1   2      0  thanks for lyft credit cannot use cause they d...\n",
              "2   3      0                                bihday your majesty\n",
              "3   4      0            model love take with all the time in ur\n",
              "4   5      0                  factsguide society now motivation"
            ]
          },
          "metadata": {
            "tags": []
          },
          "execution_count": 126
        }
      ]
    },
    {
      "cell_type": "markdown",
      "metadata": {
        "id": "G-x_bQDx2fny",
        "colab_type": "text"
      },
      "source": [
        "We are using word tokenizer now.The output of word tokenization can be converted to Data Frame for better text understanding.It is  provided as input for further text cleaning steps such as  numeric character removal or stemming."
      ]
    },
    {
      "cell_type": "code",
      "metadata": {
        "id": "ZbubwQF60gEx",
        "colab_type": "code",
        "outputId": "0f1281f9-9977-45f9-b82d-5c2a60aa8d6d",
        "colab": {
          "base_uri": "https://localhost:8080/",
          "height": 50
        }
      },
      "source": [
        "# Importing word tokenizer\n",
        "import nltk\n",
        "nltk.download('punkt')\n",
        "from nltk.tokenize import word_tokenize"
      ],
      "execution_count": 0,
      "outputs": [
        {
          "output_type": "stream",
          "text": [
            "[nltk_data] Downloading package punkt to /root/nltk_data...\n",
            "[nltk_data]   Package punkt is already up-to-date!\n"
          ],
          "name": "stdout"
        }
      ]
    },
    {
      "cell_type": "code",
      "metadata": {
        "id": "hwdYz67n0lA0",
        "colab_type": "code",
        "colab": {}
      },
      "source": [
        "df['tweet_token'] = df['tweet'].apply(lambda x: word_tokenize(x))\n",
        "df1['tweet_token'] = df1['tweet'].apply(lambda x: word_tokenize(x))"
      ],
      "execution_count": 0,
      "outputs": []
    },
    {
      "cell_type": "markdown",
      "metadata": {
        "id": "UXzotgC-1KVe",
        "colab_type": "text"
      },
      "source": [
        "Creating token for tweet."
      ]
    },
    {
      "cell_type": "code",
      "metadata": {
        "id": "ZHRmlS6F0k0O",
        "colab_type": "code",
        "outputId": "5c3e3436-d1b4-4594-f93e-c443323b2fb2",
        "colab": {
          "base_uri": "https://localhost:8080/",
          "height": 195
        }
      },
      "source": [
        "df.head()"
      ],
      "execution_count": 0,
      "outputs": [
        {
          "output_type": "execute_result",
          "data": {
            "text/html": [
              "<div>\n",
              "<style scoped>\n",
              "    .dataframe tbody tr th:only-of-type {\n",
              "        vertical-align: middle;\n",
              "    }\n",
              "\n",
              "    .dataframe tbody tr th {\n",
              "        vertical-align: top;\n",
              "    }\n",
              "\n",
              "    .dataframe thead th {\n",
              "        text-align: right;\n",
              "    }\n",
              "</style>\n",
              "<table border=\"1\" class=\"dataframe\">\n",
              "  <thead>\n",
              "    <tr style=\"text-align: right;\">\n",
              "      <th></th>\n",
              "      <th>id</th>\n",
              "      <th>label</th>\n",
              "      <th>tweet</th>\n",
              "      <th>tweet_token</th>\n",
              "    </tr>\n",
              "  </thead>\n",
              "  <tbody>\n",
              "    <tr>\n",
              "      <th>0</th>\n",
              "      <td>1</td>\n",
              "      <td>0</td>\n",
              "      <td>when father is dysfunctional and is so selfish...</td>\n",
              "      <td>[when, father, is, dysfunctional, and, is, so,...</td>\n",
              "    </tr>\n",
              "    <tr>\n",
              "      <th>1</th>\n",
              "      <td>2</td>\n",
              "      <td>0</td>\n",
              "      <td>thanks for lyft credit cannot use cause they d...</td>\n",
              "      <td>[thanks, for, lyft, credit, can, not, use, cau...</td>\n",
              "    </tr>\n",
              "    <tr>\n",
              "      <th>2</th>\n",
              "      <td>3</td>\n",
              "      <td>0</td>\n",
              "      <td>bihday your majesty</td>\n",
              "      <td>[bihday, your, majesty]</td>\n",
              "    </tr>\n",
              "    <tr>\n",
              "      <th>3</th>\n",
              "      <td>4</td>\n",
              "      <td>0</td>\n",
              "      <td>model love take with all the time in ur</td>\n",
              "      <td>[model, love, take, with, all, the, time, in, ur]</td>\n",
              "    </tr>\n",
              "    <tr>\n",
              "      <th>4</th>\n",
              "      <td>5</td>\n",
              "      <td>0</td>\n",
              "      <td>factsguide society now motivation</td>\n",
              "      <td>[factsguide, society, now, motivation]</td>\n",
              "    </tr>\n",
              "  </tbody>\n",
              "</table>\n",
              "</div>"
            ],
            "text/plain": [
              "   id  ...                                        tweet_token\n",
              "0   1  ...  [when, father, is, dysfunctional, and, is, so,...\n",
              "1   2  ...  [thanks, for, lyft, credit, can, not, use, cau...\n",
              "2   3  ...                            [bihday, your, majesty]\n",
              "3   4  ...  [model, love, take, with, all, the, time, in, ur]\n",
              "4   5  ...             [factsguide, society, now, motivation]\n",
              "\n",
              "[5 rows x 4 columns]"
            ]
          },
          "metadata": {
            "tags": []
          },
          "execution_count": 129
        }
      ]
    },
    {
      "cell_type": "code",
      "metadata": {
        "id": "GCWOEp2wRWYo",
        "colab_type": "code",
        "outputId": "420a8eec-43bd-4a6e-8f94-d0bb81296fed",
        "colab": {
          "base_uri": "https://localhost:8080/",
          "height": 195
        }
      },
      "source": [
        "df1.head()"
      ],
      "execution_count": 0,
      "outputs": [
        {
          "output_type": "execute_result",
          "data": {
            "text/html": [
              "<div>\n",
              "<style scoped>\n",
              "    .dataframe tbody tr th:only-of-type {\n",
              "        vertical-align: middle;\n",
              "    }\n",
              "\n",
              "    .dataframe tbody tr th {\n",
              "        vertical-align: top;\n",
              "    }\n",
              "\n",
              "    .dataframe thead th {\n",
              "        text-align: right;\n",
              "    }\n",
              "</style>\n",
              "<table border=\"1\" class=\"dataframe\">\n",
              "  <thead>\n",
              "    <tr style=\"text-align: right;\">\n",
              "      <th></th>\n",
              "      <th>id</th>\n",
              "      <th>tweet</th>\n",
              "      <th>tweet_token</th>\n",
              "    </tr>\n",
              "  </thead>\n",
              "  <tbody>\n",
              "    <tr>\n",
              "      <th>0</th>\n",
              "      <td>31963</td>\n",
              "      <td>studiolife aislife requires passion dedication...</td>\n",
              "      <td>[studiolife, aislife, requires, passion, dedic...</td>\n",
              "    </tr>\n",
              "    <tr>\n",
              "      <th>1</th>\n",
              "      <td>31964</td>\n",
              "      <td>white supremacists want everyone to see the ne...</td>\n",
              "      <td>[white, supremacists, want, everyone, to, see,...</td>\n",
              "    </tr>\n",
              "    <tr>\n",
              "      <th>2</th>\n",
              "      <td>31965</td>\n",
              "      <td>safe ways to heal your acne altwaystoheal heal...</td>\n",
              "      <td>[safe, ways, to, heal, your, acne, altwaystohe...</td>\n",
              "    </tr>\n",
              "    <tr>\n",
              "      <th>3</th>\n",
              "      <td>31966</td>\n",
              "      <td>is the hp and the cursed child book up for res...</td>\n",
              "      <td>[is, the, hp, and, the, cursed, child, book, u...</td>\n",
              "    </tr>\n",
              "    <tr>\n",
              "      <th>4</th>\n",
              "      <td>31967</td>\n",
              "      <td>rd bihday to my amazing hilarious nephew eli a...</td>\n",
              "      <td>[rd, bihday, to, my, amazing, hilarious, nephe...</td>\n",
              "    </tr>\n",
              "  </tbody>\n",
              "</table>\n",
              "</div>"
            ],
            "text/plain": [
              "      id  ...                                        tweet_token\n",
              "0  31963  ...  [studiolife, aislife, requires, passion, dedic...\n",
              "1  31964  ...  [white, supremacists, want, everyone, to, see,...\n",
              "2  31965  ...  [safe, ways, to, heal, your, acne, altwaystohe...\n",
              "3  31966  ...  [is, the, hp, and, the, cursed, child, book, u...\n",
              "4  31967  ...  [rd, bihday, to, my, amazing, hilarious, nephe...\n",
              "\n",
              "[5 rows x 3 columns]"
            ]
          },
          "metadata": {
            "tags": []
          },
          "execution_count": 130
        }
      ]
    },
    {
      "cell_type": "markdown",
      "metadata": {
        "id": "ZoJEfOCQvErl",
        "colab_type": "text"
      },
      "source": [
        "# ***STEMMING***"
      ]
    },
    {
      "cell_type": "markdown",
      "metadata": {
        "id": "Ppy17oUzvZIx",
        "colab_type": "text"
      },
      "source": [
        "Stemming is a technique used to extract the base form of the words by removing affixes from them. It is just like cutting down the branches of a tree to its stems. For example, the stem of the words eating, eats, eaten is eat."
      ]
    },
    {
      "cell_type": "markdown",
      "metadata": {
        "id": "bc9ggJgevq8R",
        "colab_type": "text"
      },
      "source": [
        "**Porter stemming algorithm**\n",
        "is one of the most common stemming algorithms which is basically designed to remove and replace well-known suffixes of English words."
      ]
    },
    {
      "cell_type": "markdown",
      "metadata": {
        "id": "sYgDjOIWv7oI",
        "colab_type": "text"
      },
      "source": [
        "We are using **PorterStemmer class** which can easily implement Porter Stemmer algorithms for the word we want to stem.\n",
        "\n",
        "This class knows several regular word forms and suffixes with the help of which it can transform the input word to a final stem. The resulting stem is often a shorter word having the same root meaning."
      ]
    },
    {
      "cell_type": "code",
      "metadata": {
        "id": "gGhIJb9VgLlO",
        "colab_type": "code",
        "colab": {}
      },
      "source": [
        "import nltk"
      ],
      "execution_count": 0,
      "outputs": []
    },
    {
      "cell_type": "markdown",
      "metadata": {
        "id": "-z5flmAbwUmj",
        "colab_type": "text"
      },
      "source": [
        "Removal of suffices, like “ing”, “ly”, “s”, etc. by a simple rule-based approach."
      ]
    },
    {
      "cell_type": "code",
      "metadata": {
        "id": "sgcoQ3BlgLgV",
        "colab_type": "code",
        "colab": {}
      },
      "source": [
        "# Importing library for stemming\n",
        "from nltk.stem import PorterStemmer\n",
        "stemming = PorterStemmer()"
      ],
      "execution_count": 0,
      "outputs": []
    },
    {
      "cell_type": "code",
      "metadata": {
        "id": "LqZvja9LgLeb",
        "colab_type": "code",
        "colab": {}
      },
      "source": [
        "df['tweet_stem'] = df['tweet_token'].apply(lambda x: ' '.join([stemming.stem(i) for i in x]))"
      ],
      "execution_count": 0,
      "outputs": []
    },
    {
      "cell_type": "code",
      "metadata": {
        "id": "th1x6XiRy2TD",
        "colab_type": "code",
        "colab": {}
      },
      "source": [
        "df1['tweet_stem'] = df1['tweet_token'].apply(lambda x: ' '.join([stemming.stem(i) for i in x]))"
      ],
      "execution_count": 0,
      "outputs": []
    },
    {
      "cell_type": "code",
      "metadata": {
        "id": "EO8GUyv3y2NY",
        "colab_type": "code",
        "outputId": "8463af9f-6b30-4f53-9074-3b83760938bd",
        "colab": {
          "base_uri": "https://localhost:8080/",
          "height": 195
        }
      },
      "source": [
        "df.head()"
      ],
      "execution_count": 0,
      "outputs": [
        {
          "output_type": "execute_result",
          "data": {
            "text/html": [
              "<div>\n",
              "<style scoped>\n",
              "    .dataframe tbody tr th:only-of-type {\n",
              "        vertical-align: middle;\n",
              "    }\n",
              "\n",
              "    .dataframe tbody tr th {\n",
              "        vertical-align: top;\n",
              "    }\n",
              "\n",
              "    .dataframe thead th {\n",
              "        text-align: right;\n",
              "    }\n",
              "</style>\n",
              "<table border=\"1\" class=\"dataframe\">\n",
              "  <thead>\n",
              "    <tr style=\"text-align: right;\">\n",
              "      <th></th>\n",
              "      <th>id</th>\n",
              "      <th>label</th>\n",
              "      <th>tweet</th>\n",
              "      <th>tweet_token</th>\n",
              "      <th>tweet_stem</th>\n",
              "    </tr>\n",
              "  </thead>\n",
              "  <tbody>\n",
              "    <tr>\n",
              "      <th>0</th>\n",
              "      <td>1</td>\n",
              "      <td>0</td>\n",
              "      <td>when father is dysfunctional and is so selfish...</td>\n",
              "      <td>[when, father, is, dysfunctional, and, is, so,...</td>\n",
              "      <td>when father is dysfunct and is so selfish he d...</td>\n",
              "    </tr>\n",
              "    <tr>\n",
              "      <th>1</th>\n",
              "      <td>2</td>\n",
              "      <td>0</td>\n",
              "      <td>thanks for lyft credit cannot use cause they d...</td>\n",
              "      <td>[thanks, for, lyft, credit, can, not, use, cau...</td>\n",
              "      <td>thank for lyft credit can not use caus they do...</td>\n",
              "    </tr>\n",
              "    <tr>\n",
              "      <th>2</th>\n",
              "      <td>3</td>\n",
              "      <td>0</td>\n",
              "      <td>bihday your majesty</td>\n",
              "      <td>[bihday, your, majesty]</td>\n",
              "      <td>bihday your majesti</td>\n",
              "    </tr>\n",
              "    <tr>\n",
              "      <th>3</th>\n",
              "      <td>4</td>\n",
              "      <td>0</td>\n",
              "      <td>model love take with all the time in ur</td>\n",
              "      <td>[model, love, take, with, all, the, time, in, ur]</td>\n",
              "      <td>model love take with all the time in ur</td>\n",
              "    </tr>\n",
              "    <tr>\n",
              "      <th>4</th>\n",
              "      <td>5</td>\n",
              "      <td>0</td>\n",
              "      <td>factsguide society now motivation</td>\n",
              "      <td>[factsguide, society, now, motivation]</td>\n",
              "      <td>factsguid societi now motiv</td>\n",
              "    </tr>\n",
              "  </tbody>\n",
              "</table>\n",
              "</div>"
            ],
            "text/plain": [
              "   id  ...                                         tweet_stem\n",
              "0   1  ...  when father is dysfunct and is so selfish he d...\n",
              "1   2  ...  thank for lyft credit can not use caus they do...\n",
              "2   3  ...                                bihday your majesti\n",
              "3   4  ...            model love take with all the time in ur\n",
              "4   5  ...                        factsguid societi now motiv\n",
              "\n",
              "[5 rows x 5 columns]"
            ]
          },
          "metadata": {
            "tags": []
          },
          "execution_count": 38
        }
      ]
    },
    {
      "cell_type": "code",
      "metadata": {
        "id": "9Ne_Rnhw3MjR",
        "colab_type": "code",
        "outputId": "1ff58d18-1d55-4cc5-f037-305466abd8e9",
        "colab": {
          "base_uri": "https://localhost:8080/",
          "height": 195
        }
      },
      "source": [
        "df1.head()"
      ],
      "execution_count": 0,
      "outputs": [
        {
          "output_type": "execute_result",
          "data": {
            "text/html": [
              "<div>\n",
              "<style scoped>\n",
              "    .dataframe tbody tr th:only-of-type {\n",
              "        vertical-align: middle;\n",
              "    }\n",
              "\n",
              "    .dataframe tbody tr th {\n",
              "        vertical-align: top;\n",
              "    }\n",
              "\n",
              "    .dataframe thead th {\n",
              "        text-align: right;\n",
              "    }\n",
              "</style>\n",
              "<table border=\"1\" class=\"dataframe\">\n",
              "  <thead>\n",
              "    <tr style=\"text-align: right;\">\n",
              "      <th></th>\n",
              "      <th>id</th>\n",
              "      <th>tweet</th>\n",
              "      <th>tweet_token</th>\n",
              "      <th>tweet_stem</th>\n",
              "    </tr>\n",
              "  </thead>\n",
              "  <tbody>\n",
              "    <tr>\n",
              "      <th>0</th>\n",
              "      <td>31963</td>\n",
              "      <td>studiolife aislife requires passion dedication...</td>\n",
              "      <td>[studiolife, aislife, requires, passion, dedic...</td>\n",
              "      <td>studiolif aislif requir passion dedic willpow ...</td>\n",
              "    </tr>\n",
              "    <tr>\n",
              "      <th>1</th>\n",
              "      <td>31964</td>\n",
              "      <td>white supremacists want everyone to see the ne...</td>\n",
              "      <td>[white, supremacists, want, everyone, to, see,...</td>\n",
              "      <td>white supremacist want everyon to see the new ...</td>\n",
              "    </tr>\n",
              "    <tr>\n",
              "      <th>2</th>\n",
              "      <td>31965</td>\n",
              "      <td>safe ways to heal your acne altwaystoheal heal...</td>\n",
              "      <td>[safe, ways, to, heal, your, acne, altwaystohe...</td>\n",
              "      <td>safe way to heal your acn altwaystoh healthi heal</td>\n",
              "    </tr>\n",
              "    <tr>\n",
              "      <th>3</th>\n",
              "      <td>31966</td>\n",
              "      <td>is the hp and the cursed child book up for res...</td>\n",
              "      <td>[is, the, hp, and, the, cursed, child, book, u...</td>\n",
              "      <td>is the hp and the curs child book up for reser...</td>\n",
              "    </tr>\n",
              "    <tr>\n",
              "      <th>4</th>\n",
              "      <td>31967</td>\n",
              "      <td>rd bihday to my amazing hilarious nephew eli a...</td>\n",
              "      <td>[rd, bihday, to, my, amazing, hilarious, nephe...</td>\n",
              "      <td>rd bihday to my amaz hilari nephew eli ahmir u...</td>\n",
              "    </tr>\n",
              "  </tbody>\n",
              "</table>\n",
              "</div>"
            ],
            "text/plain": [
              "      id  ...                                         tweet_stem\n",
              "0  31963  ...  studiolif aislif requir passion dedic willpow ...\n",
              "1  31964  ...  white supremacist want everyon to see the new ...\n",
              "2  31965  ...  safe way to heal your acn altwaystoh healthi heal\n",
              "3  31966  ...  is the hp and the curs child book up for reser...\n",
              "4  31967  ...  rd bihday to my amaz hilari nephew eli ahmir u...\n",
              "\n",
              "[5 rows x 4 columns]"
            ]
          },
          "metadata": {
            "tags": []
          },
          "execution_count": 39
        }
      ]
    },
    {
      "cell_type": "markdown",
      "metadata": {
        "id": "vb6YmooP19aL",
        "colab_type": "text"
      },
      "source": [
        "The suffices have been removed now."
      ]
    },
    {
      "cell_type": "markdown",
      "metadata": {
        "id": "ss2J_kNV28oz",
        "colab_type": "text"
      },
      "source": [
        "# **LEMMETIZATION**"
      ]
    },
    {
      "cell_type": "markdown",
      "metadata": {
        "id": "DQEX9vde3JBV",
        "colab_type": "text"
      },
      "source": [
        "Lemmatization technique is like stemming. The output we will get after lemmatization is called ‘lemma’, which is a root word rather than root stem, the output of stemming. After lemmatization, we will be getting a valid word that means the same thing."
      ]
    },
    {
      "cell_type": "markdown",
      "metadata": {
        "id": "_-UUvk4Y3dzv",
        "colab_type": "text"
      },
      "source": [
        "NLTK provides WordNetLemmatizer class which is a thin wrapper around the wordnet corpus. This class uses morphy() function to the WordNet CorpusReader class to find a lemma. For example,Lemmetization of 'books' is **book** and Lemmatization of 'eating' is **eating**.Lemmatization considers the context and converts the word to its meaningful base form.Whereas stemming just removes the last few characters, often leading to incorrect meanings and spelling errors.We used stemming in this process to remove all the unnecessary suffices.But,the words might have lost their meaning too.So,we have kept different columns for stemming and lemmatization."
      ]
    },
    {
      "cell_type": "code",
      "metadata": {
        "id": "moCy7FcSy2Ie",
        "colab_type": "code",
        "outputId": "1b6c9f8f-91a1-4498-8e19-45c501f13911",
        "colab": {
          "base_uri": "https://localhost:8080/",
          "height": 50
        }
      },
      "source": [
        "# Importing library for lemmatizing\n",
        "nltk.download('wordnet')\n",
        "from nltk.stem.wordnet import WordNetLemmatizer\n",
        "lemmatizing = WordNetLemmatizer()"
      ],
      "execution_count": 0,
      "outputs": [
        {
          "output_type": "stream",
          "text": [
            "[nltk_data] Downloading package wordnet to /root/nltk_data...\n",
            "[nltk_data]   Package wordnet is already up-to-date!\n"
          ],
          "name": "stdout"
        }
      ]
    },
    {
      "cell_type": "code",
      "metadata": {
        "id": "2-g0M369y2FF",
        "colab_type": "code",
        "colab": {}
      },
      "source": [
        "df['tweet_lemm'] = df['tweet_token'].apply(lambda x: ' '.join([lemmatizing.lemmatize(i) for i in x]))\n",
        "df1['tweet_lemm'] = df1['tweet_token'].apply(lambda x: ' '.join([lemmatizing.lemmatize(i) for i in x]))"
      ],
      "execution_count": 0,
      "outputs": []
    },
    {
      "cell_type": "code",
      "metadata": {
        "id": "hygcxbZ-y2Cz",
        "colab_type": "code",
        "outputId": "d4e76360-843c-465a-c047-8b94b2be4fe2",
        "colab": {
          "base_uri": "https://localhost:8080/",
          "height": 195
        }
      },
      "source": [
        "df.head()"
      ],
      "execution_count": 0,
      "outputs": [
        {
          "output_type": "execute_result",
          "data": {
            "text/html": [
              "<div>\n",
              "<style scoped>\n",
              "    .dataframe tbody tr th:only-of-type {\n",
              "        vertical-align: middle;\n",
              "    }\n",
              "\n",
              "    .dataframe tbody tr th {\n",
              "        vertical-align: top;\n",
              "    }\n",
              "\n",
              "    .dataframe thead th {\n",
              "        text-align: right;\n",
              "    }\n",
              "</style>\n",
              "<table border=\"1\" class=\"dataframe\">\n",
              "  <thead>\n",
              "    <tr style=\"text-align: right;\">\n",
              "      <th></th>\n",
              "      <th>id</th>\n",
              "      <th>label</th>\n",
              "      <th>tweet</th>\n",
              "      <th>tweet_token</th>\n",
              "      <th>tweet_lemm</th>\n",
              "    </tr>\n",
              "  </thead>\n",
              "  <tbody>\n",
              "    <tr>\n",
              "      <th>0</th>\n",
              "      <td>1</td>\n",
              "      <td>0</td>\n",
              "      <td>when father is dysfunctional and is so selfish...</td>\n",
              "      <td>[when, father, is, dysfunctional, and, is, so,...</td>\n",
              "      <td>when father is dysfunctional and is so selfish...</td>\n",
              "    </tr>\n",
              "    <tr>\n",
              "      <th>1</th>\n",
              "      <td>2</td>\n",
              "      <td>0</td>\n",
              "      <td>thanks for lyft credit cannot use cause they d...</td>\n",
              "      <td>[thanks, for, lyft, credit, can, not, use, cau...</td>\n",
              "      <td>thanks for lyft credit can not use cause they ...</td>\n",
              "    </tr>\n",
              "    <tr>\n",
              "      <th>2</th>\n",
              "      <td>3</td>\n",
              "      <td>0</td>\n",
              "      <td>bihday your majesty</td>\n",
              "      <td>[bihday, your, majesty]</td>\n",
              "      <td>bihday your majesty</td>\n",
              "    </tr>\n",
              "    <tr>\n",
              "      <th>3</th>\n",
              "      <td>4</td>\n",
              "      <td>0</td>\n",
              "      <td>model love take with all the time in ur</td>\n",
              "      <td>[model, love, take, with, all, the, time, in, ur]</td>\n",
              "      <td>model love take with all the time in ur</td>\n",
              "    </tr>\n",
              "    <tr>\n",
              "      <th>4</th>\n",
              "      <td>5</td>\n",
              "      <td>0</td>\n",
              "      <td>factsguide society now motivation</td>\n",
              "      <td>[factsguide, society, now, motivation]</td>\n",
              "      <td>factsguide society now motivation</td>\n",
              "    </tr>\n",
              "  </tbody>\n",
              "</table>\n",
              "</div>"
            ],
            "text/plain": [
              "   id  ...                                         tweet_lemm\n",
              "0   1  ...  when father is dysfunctional and is so selfish...\n",
              "1   2  ...  thanks for lyft credit can not use cause they ...\n",
              "2   3  ...                                bihday your majesty\n",
              "3   4  ...            model love take with all the time in ur\n",
              "4   5  ...                  factsguide society now motivation\n",
              "\n",
              "[5 rows x 5 columns]"
            ]
          },
          "metadata": {
            "tags": []
          },
          "execution_count": 36
        }
      ]
    },
    {
      "cell_type": "code",
      "metadata": {
        "id": "qDJvwX3yRqEv",
        "colab_type": "code",
        "outputId": "9d9a345f-c358-4c4f-92dc-ca272234d133",
        "colab": {
          "base_uri": "https://localhost:8080/",
          "height": 195
        }
      },
      "source": [
        "df1.head()"
      ],
      "execution_count": 0,
      "outputs": [
        {
          "output_type": "execute_result",
          "data": {
            "text/html": [
              "<div>\n",
              "<style scoped>\n",
              "    .dataframe tbody tr th:only-of-type {\n",
              "        vertical-align: middle;\n",
              "    }\n",
              "\n",
              "    .dataframe tbody tr th {\n",
              "        vertical-align: top;\n",
              "    }\n",
              "\n",
              "    .dataframe thead th {\n",
              "        text-align: right;\n",
              "    }\n",
              "</style>\n",
              "<table border=\"1\" class=\"dataframe\">\n",
              "  <thead>\n",
              "    <tr style=\"text-align: right;\">\n",
              "      <th></th>\n",
              "      <th>id</th>\n",
              "      <th>tweet</th>\n",
              "      <th>tweet_token</th>\n",
              "      <th>tweet_lemm</th>\n",
              "    </tr>\n",
              "  </thead>\n",
              "  <tbody>\n",
              "    <tr>\n",
              "      <th>0</th>\n",
              "      <td>31963</td>\n",
              "      <td>studiolife aislife requires passion dedication...</td>\n",
              "      <td>[studiolife, aislife, requires, passion, dedic...</td>\n",
              "      <td>studiolife aislife requires passion dedication...</td>\n",
              "    </tr>\n",
              "    <tr>\n",
              "      <th>1</th>\n",
              "      <td>31964</td>\n",
              "      <td>white supremacists want everyone to see the ne...</td>\n",
              "      <td>[white, supremacists, want, everyone, to, see,...</td>\n",
              "      <td>white supremacist want everyone to see the new...</td>\n",
              "    </tr>\n",
              "    <tr>\n",
              "      <th>2</th>\n",
              "      <td>31965</td>\n",
              "      <td>safe ways to heal your acne altwaystoheal heal...</td>\n",
              "      <td>[safe, ways, to, heal, your, acne, altwaystohe...</td>\n",
              "      <td>safe way to heal your acne altwaystoheal healt...</td>\n",
              "    </tr>\n",
              "    <tr>\n",
              "      <th>3</th>\n",
              "      <td>31966</td>\n",
              "      <td>is the hp and the cursed child book up for res...</td>\n",
              "      <td>[is, the, hp, and, the, cursed, child, book, u...</td>\n",
              "      <td>is the hp and the cursed child book up for res...</td>\n",
              "    </tr>\n",
              "    <tr>\n",
              "      <th>4</th>\n",
              "      <td>31967</td>\n",
              "      <td>rd bihday to my amazing hilarious nephew eli a...</td>\n",
              "      <td>[rd, bihday, to, my, amazing, hilarious, nephe...</td>\n",
              "      <td>rd bihday to my amazing hilarious nephew eli a...</td>\n",
              "    </tr>\n",
              "  </tbody>\n",
              "</table>\n",
              "</div>"
            ],
            "text/plain": [
              "      id  ...                                         tweet_lemm\n",
              "0  31963  ...  studiolife aislife requires passion dedication...\n",
              "1  31964  ...  white supremacist want everyone to see the new...\n",
              "2  31965  ...  safe way to heal your acne altwaystoheal healt...\n",
              "3  31966  ...  is the hp and the cursed child book up for res...\n",
              "4  31967  ...  rd bihday to my amazing hilarious nephew eli a...\n",
              "\n",
              "[5 rows x 4 columns]"
            ]
          },
          "metadata": {
            "tags": []
          },
          "execution_count": 37
        }
      ]
    },
    {
      "cell_type": "markdown",
      "metadata": {
        "id": "3GRQNih_6Dj4",
        "colab_type": "text"
      },
      "source": [
        "We have cleaned our dataset and it is ready for further analysis."
      ]
    },
    {
      "cell_type": "markdown",
      "metadata": {
        "id": "U2A3s8Wi98T-",
        "colab_type": "text"
      },
      "source": [
        "# **VISUALIZATION**"
      ]
    },
    {
      "cell_type": "markdown",
      "metadata": {
        "id": "gqodCsQHSKFg",
        "colab_type": "text"
      },
      "source": [
        "Let's visualize the target values."
      ]
    },
    {
      "cell_type": "code",
      "metadata": {
        "id": "LpHjOgj2R2Qu",
        "colab_type": "code",
        "outputId": "dd978c3a-c07f-447c-c096-96d51993d285",
        "colab": {
          "base_uri": "https://localhost:8080/",
          "height": 279
        }
      },
      "source": [
        "df['label'].value_counts().plot.bar(color = 'skyblue', figsize = (6, 4))"
      ],
      "execution_count": 0,
      "outputs": [
        {
          "output_type": "execute_result",
          "data": {
            "text/plain": [
              "<matplotlib.axes._subplots.AxesSubplot at 0x7fa87cdbb550>"
            ]
          },
          "metadata": {
            "tags": []
          },
          "execution_count": 137
        },
        {
          "output_type": "display_data",
          "data": {
            "image/png": "[encoded data removed]",
            "text/plain": [
              "<Figure size 432x288 with 1 Axes>"
            ]
          },
          "metadata": {
            "tags": [],
            "needs_background": "light"
          }
        }
      ]
    },
    {
      "cell_type": "code",
      "metadata": {
        "id": "fCGPVE_9Sfpo",
        "colab_type": "code",
        "outputId": "2f26b430-e51e-454b-aab1-8d46de82150d",
        "colab": {
          "base_uri": "https://localhost:8080/",
          "height": 265
        }
      },
      "source": [
        "# checking the distribution of tweets in the data\n",
        "\n",
        "length_train = df['tweet'].str.len().plot.hist(color = 'pink', figsize = (6, 4))\n",
        "length_test = df1['tweet'].str.len().plot.hist(color = 'orange', figsize = (6, 4))"
      ],
      "execution_count": 0,
      "outputs": [
        {
          "output_type": "display_data",
          "data": {
            "image/png": "[encoded data removed]",
            "text/plain": [
              "<Figure size 432x288 with 1 Axes>"
            ]
          },
          "metadata": {
            "tags": [],
            "needs_background": "light"
          }
        }
      ]
    },
    {
      "cell_type": "markdown",
      "metadata": {
        "id": "uojk1nrqUBlZ",
        "colab_type": "text"
      },
      "source": [
        "Let's see which are the top 30 most used words in the tweet."
      ]
    },
    {
      "cell_type": "code",
      "metadata": {
        "id": "dXBWRaQqTAdq",
        "colab_type": "code",
        "outputId": "0ba66fa3-8486-4f35-e365-cf7efb922937",
        "colab": {
          "base_uri": "https://localhost:8080/",
          "height": 510
        }
      },
      "source": [
        "from sklearn.feature_extraction.text import CountVectorizer\n",
        "cv = CountVectorizer(stop_words = 'english')\n",
        "words = cv.fit_transform(df.tweet)\n",
        "\n",
        "sum_words = words.sum(axis=0)\n",
        "\n",
        "words_freq = [(word, sum_words[0, i]) for word, i in cv.vocabulary_.items()]\n",
        "words_freq = sorted(words_freq, key = lambda x: x[1], reverse = True)\n",
        "\n",
        "frequency = pd.DataFrame(words_freq, columns=['word', 'freq'])\n",
        "\n",
        "frequency.head(30).plot(x='word', y='freq', kind='bar', figsize=(15, 7), color = 'blue')\n",
        "plt.title(\"Most Frequently Occuring Words - Top 30\")"
      ],
      "execution_count": 0,
      "outputs": [
        {
          "output_type": "execute_result",
          "data": {
            "text/plain": [
              "Text(0.5, 1.0, 'Most Frequently Occuring Words - Top 30')"
            ]
          },
          "metadata": {
            "tags": []
          },
          "execution_count": 135
        },
        {
          "output_type": "display_data",
          "data": {
            "image/png": "[encoded data removed]",
            "text/plain": [
              "<Figure size 1080x504 with 1 Axes>"
            ]
          },
          "metadata": {
            "tags": [],
            "needs_background": "light"
          }
        }
      ]
    },
    {
      "cell_type": "markdown",
      "metadata": {
        "id": "5xc9bTZf_DAb",
        "colab_type": "text"
      },
      "source": [
        "Now ,we have used word cloud visualization for checking the most frequently used words after lemmetization.\n",
        "\n",
        "Word clouds (also known as text clouds or tag clouds) work in a simple way: the more a specific word appears in a source of textual data, the bigger and bolder it appears in the word cloud."
      ]
    },
    {
      "cell_type": "markdown",
      "metadata": {
        "id": "6WweIR_KAAdl",
        "colab_type": "text"
      },
      "source": [
        "Let's see which are the commonly used words in racist and non-racist datapoints in column tweet_lemm."
      ]
    },
    {
      "cell_type": "code",
      "metadata": {
        "id": "stZi1rL_BWYX",
        "colab_type": "code",
        "colab": {}
      },
      "source": [
        "from wordcloud import WordCloud"
      ],
      "execution_count": 0,
      "outputs": []
    },
    {
      "cell_type": "code",
      "metadata": {
        "id": "ifsAZ_PF4y_2",
        "colab_type": "code",
        "outputId": "598e05b0-7872-4560-c87d-314279ab57cd",
        "colab": {
          "base_uri": "https://localhost:8080/",
          "height": 396
        }
      },
      "source": [
        "normal_words =' '.join([text for text in df['tweet_lemm'][df['label'] == 0]])\n",
        "\n",
        "wordcloud = WordCloud(width=800, height=500, random_state=21, max_font_size=110).generate(normal_words)\n",
        "plt.figure(figsize=(10, 7))\n",
        "plt.imshow(wordcloud, interpolation=\"bilinear\")\n",
        "plt.axis('off')\n",
        "plt.title(\"Most non racist/sexist words in column Tweet_Lemm\")\n",
        "plt.show()"
      ],
      "execution_count": 0,
      "outputs": [
        {
          "output_type": "display_data",
          "data": {
            "image/png": "[encoded data removed]",
            "text/plain": [
              "<Figure size 720x504 with 1 Axes>"
            ]
          },
          "metadata": {
            "tags": [],
            "needs_background": "light"
          }
        }
      ]
    },
    {
      "cell_type": "code",
      "metadata": {
        "id": "rlt9PJBZ4y8X",
        "colab_type": "code",
        "outputId": "6ce07087-a011-457b-abd8-e027d8fc9f61",
        "colab": {
          "base_uri": "https://localhost:8080/",
          "height": 396
        }
      },
      "source": [
        "normal_words =' '.join([text for text in df['tweet_lemm'][df['label'] == 1]])\n",
        "\n",
        "wordcloud = WordCloud(width=800, height=500, random_state=21, max_font_size=110).generate(normal_words)\n",
        "plt.figure(figsize=(10, 7))\n",
        "plt.imshow(wordcloud, interpolation=\"bilinear\")\n",
        "plt.axis('off')\n",
        "plt.title(\"Most racist/sexist words in column Tweet_lemm\")\n",
        "plt.show()"
      ],
      "execution_count": 0,
      "outputs": [
        {
          "output_type": "display_data",
          "data": {
            "image/png": "[encoded data removed]",
            "text/plain": [
              "<Figure size 720x504 with 1 Axes>"
            ]
          },
          "metadata": {
            "tags": [],
            "needs_background": "light"
          }
        }
      ]
    },
    {
      "cell_type": "markdown",
      "metadata": {
        "id": "gbEHnueOkMIu",
        "colab_type": "text"
      },
      "source": [
        "All these words are repeated alot of times in the selected column.The words which are\n",
        "highlighted and are of high font size are repeated most number of times in tweet_lemm column."
      ]
    },
    {
      "cell_type": "markdown",
      "metadata": {
        "id": "xpDXdOw7qSyT",
        "colab_type": "text"
      },
      "source": [
        "# **EXTRACTING FEATURES**"
      ]
    },
    {
      "cell_type": "markdown",
      "metadata": {
        "id": "tGzs-pF_rSfo",
        "colab_type": "text"
      },
      "source": [
        "We have used **TF-IDF**, a very common algorithm to transform text into a meaningful representation of numbers. This technique is widely used to extract features across various NLP applications.This aims to define the importance of a keyword or phrase within a document or a web page."
      ]
    },
    {
      "cell_type": "code",
      "metadata": {
        "id": "ou4A5jV14y2W",
        "colab_type": "code",
        "colab": {}
      },
      "source": [
        "from sklearn.feature_extraction.text import TfidfVectorizer\n",
        "#import necessary library"
      ],
      "execution_count": 0,
      "outputs": []
    },
    {
      "cell_type": "code",
      "metadata": {
        "id": "iyO6BJEG4y1C",
        "colab_type": "code",
        "outputId": "0986985f-0f76-48ff-a8cb-7db2d20bdd52",
        "colab": {
          "base_uri": "https://localhost:8080/",
          "height": 134
        }
      },
      "source": [
        "tfidf = TfidfVectorizer()\n",
        "tfidf1=TfidfVectorizer()\n",
        "tfidf.fit(df['tweet_lemm'].values)\n",
        "tfidf1.fit(df1['tweet_lemm'].values)"
      ],
      "execution_count": 0,
      "outputs": [
        {
          "output_type": "execute_result",
          "data": {
            "text/plain": [
              "TfidfVectorizer(analyzer='word', binary=False, decode_error='strict',\n",
              "                dtype=<class 'numpy.float64'>, encoding='utf-8',\n",
              "                input='content', lowercase=True, max_df=1.0, max_features=None,\n",
              "                min_df=1, ngram_range=(1, 1), norm='l2', preprocessor=None,\n",
              "                smooth_idf=True, stop_words=None, strip_accents=None,\n",
              "                sublinear_tf=False, token_pattern='(?u)\\\\b\\\\w\\\\w+\\\\b',\n",
              "                tokenizer=None, use_idf=True, vocabulary=None)"
            ]
          },
          "metadata": {
            "tags": []
          },
          "execution_count": 39
        }
      ]
    },
    {
      "cell_type": "markdown",
      "metadata": {
        "id": "SHozmkFDr5h0",
        "colab_type": "text"
      },
      "source": [
        "We have only used the column \"tweet_lemm\" for tfidf vectorization.I used stemming to only show how different methods work for data cleaning process. "
      ]
    },
    {
      "cell_type": "code",
      "metadata": {
        "id": "Uq3YZrc0r5JI",
        "colab_type": "code",
        "colab": {}
      },
      "source": [
        "target = np.array(df['label'], dtype='int')\n",
        "#Initialise the target "
      ],
      "execution_count": 0,
      "outputs": []
    },
    {
      "cell_type": "markdown",
      "metadata": {
        "id": "pq7x1mVuaeW9",
        "colab_type": "text"
      },
      "source": [
        "I have used Bag of Words (BOW) to extract features from text documents. These features can be used for training.It creates a vocabulary of all the unique words occurring in all the documents in the training set."
      ]
    },
    {
      "cell_type": "code",
      "metadata": {
        "id": "4POiOQMU4ywF",
        "colab_type": "code",
        "colab": {}
      },
      "source": [
        "bag_of_words = tfidf.transform(df['tweet_lemm'].values)#train dataset\n",
        "bag_of_words1=tfidf1.transform(df1['tweet_lemm'].values)#test dataset"
      ],
      "execution_count": 0,
      "outputs": []
    },
    {
      "cell_type": "code",
      "metadata": {
        "id": "BGPdMeM84yu4",
        "colab_type": "code",
        "colab": {}
      },
      "source": [
        "bag_of_words = bag_of_words.toarray()\n",
        "#of train dataset"
      ],
      "execution_count": 0,
      "outputs": []
    },
    {
      "cell_type": "code",
      "metadata": {
        "id": "M0b724Rg4ypr",
        "colab_type": "code",
        "outputId": "9dc5513c-ddbc-4387-a90f-1bbdc663193a",
        "colab": {
          "base_uri": "https://localhost:8080/",
          "height": 34
        }
      },
      "source": [
        "bag_of_words.shape\n",
        "#shape of train dataset"
      ],
      "execution_count": 0,
      "outputs": [
        {
          "output_type": "execute_result",
          "data": {
            "text/plain": [
              "(31962, 35221)"
            ]
          },
          "metadata": {
            "tags": []
          },
          "execution_count": 43
        }
      ]
    },
    {
      "cell_type": "code",
      "metadata": {
        "id": "dzKi717ny109",
        "colab_type": "code",
        "colab": {}
      },
      "source": [
        "bag_of_words1=bag_of_words1.toarray()\n",
        "#of test dataset"
      ],
      "execution_count": 0,
      "outputs": []
    },
    {
      "cell_type": "code",
      "metadata": {
        "id": "SNz_VFiQwvoc",
        "colab_type": "code",
        "outputId": "07a47d10-194f-4aa3-9335-b75bfe6abe05",
        "colab": {
          "base_uri": "https://localhost:8080/",
          "height": 34
        }
      },
      "source": [
        "bag_of_words1.shape\n",
        "#shape of test dataset"
      ],
      "execution_count": 0,
      "outputs": [
        {
          "output_type": "execute_result",
          "data": {
            "text/plain": [
              "(17197, 23918)"
            ]
          },
          "metadata": {
            "tags": []
          },
          "execution_count": 45
        }
      ]
    },
    {
      "cell_type": "markdown",
      "metadata": {
        "id": "kwkJmobUcaZ7",
        "colab_type": "text"
      },
      "source": [
        "Using truncated SVD to reduce dimensionality.\n",
        "\n",
        " This is very similar to PCA, excepting that the factorization for SVD is done on the data matrix, whereas for PCA, the factorization is done on the covariance matrix. Typically, SVD is used under the hood to find the principle components of a matrix."
      ]
    },
    {
      "cell_type": "code",
      "metadata": {
        "id": "cQj2FrbZwvi7",
        "colab_type": "code",
        "outputId": "08398179-b381-412b-fbf1-dd0bc2afd757",
        "colab": {
          "base_uri": "https://localhost:8080/",
          "height": 34
        }
      },
      "source": [
        "from sklearn.decomposition import TruncatedSVD\n",
        "#n_components:Desired dimensionality of output data. Must be strictly less than the number of features.\n",
        "#The default value is useful for visualisation.\n",
        "tsvd = TruncatedSVD(n_components=220)\n",
        "tsvd.fit(bag_of_words)\n",
        "scaled = tsvd.transform(bag_of_words)\n",
        "print(scaled.shape)"
      ],
      "execution_count": 0,
      "outputs": [
        {
          "output_type": "stream",
          "text": [
            "(31962, 220)\n"
          ],
          "name": "stdout"
        }
      ]
    },
    {
      "cell_type": "code",
      "metadata": {
        "id": "quJ7wh9xvkrQ",
        "colab_type": "code",
        "outputId": "5d3c93ee-28ec-41a9-b437-678a25cc1d7c",
        "colab": {
          "base_uri": "https://localhost:8080/",
          "height": 34
        }
      },
      "source": [
        "from sklearn.decomposition import TruncatedSVD\n",
        "#n_components:Desired dimensionality of output data. Must be strictly less than the number of features.\n",
        "#The default value is useful for visualisation.\n",
        "tsvd1 = TruncatedSVD(n_components=220)\n",
        "tsvd1.fit(bag_of_words1)\n",
        "scaled1 = tsvd1.transform(bag_of_words1)\n",
        "print(scaled1.shape)"
      ],
      "execution_count": 0,
      "outputs": [
        {
          "output_type": "stream",
          "text": [
            "(17197, 220)\n"
          ],
          "name": "stdout"
        }
      ]
    },
    {
      "cell_type": "code",
      "metadata": {
        "id": "SmODVOkiwvfM",
        "colab_type": "code",
        "colab": {}
      },
      "source": [
        "model = keras.models.Sequential([\n",
        "        keras.layers.Dense(100, input_shape=(220,), activation='relu'),\n",
        "        keras.layers.Dense(60, activation='relu'),\n",
        "        keras.layers.Dense(2, activation='softmax')\n",
        "])"
      ],
      "execution_count": 0,
      "outputs": []
    },
    {
      "cell_type": "markdown",
      "metadata": {
        "id": "YODjqGmPdgvC",
        "colab_type": "text"
      },
      "source": [
        "Softmax is often used as the activation for the last layer of a classification network because the result could be interpreted as a probability distribution."
      ]
    },
    {
      "cell_type": "markdown",
      "metadata": {
        "id": "3GcQtRKjfTXl",
        "colab_type": "text"
      },
      "source": [
        "Optimizers help to get results faster.I have used Adam optimizer here."
      ]
    },
    {
      "cell_type": "code",
      "metadata": {
        "id": "qvZJfgBCwvdk",
        "colab_type": "code",
        "colab": {}
      },
      "source": [
        "model.compile(optimizer=keras.optimizers.Adam(0.0001),\n",
        "              loss=keras.losses.sparse_categorical_crossentropy,\n",
        "              metrics=['accuracy'])"
      ],
      "execution_count": 0,
      "outputs": []
    },
    {
      "cell_type": "markdown",
      "metadata": {
        "id": "X9zeZZyqeA8X",
        "colab_type": "text"
      },
      "source": [
        "Adam optimization is a stochastic gradient descent method that is based on adaptive estimation of first-order and second-order moments."
      ]
    },
    {
      "cell_type": "markdown",
      "metadata": {
        "id": "P2-GU1_L-TIW",
        "colab_type": "text"
      },
      "source": [
        "**TRAINING**"
      ]
    },
    {
      "cell_type": "code",
      "metadata": {
        "id": "MsZOSAcbtPsS",
        "colab_type": "code",
        "outputId": "b0067d06-0c7b-48c4-c402-4ffbb0e65b5b",
        "colab": {
          "base_uri": "https://localhost:8080/",
          "height": 1000
        }
      },
      "source": [
        "model.fit(scaled, target, epochs=50, verbose=1, validation_split=0.1)"
      ],
      "execution_count": 0,
      "outputs": [
        {
          "output_type": "stream",
          "text": [
            "Epoch 1/50\n",
            "899/899 [==============================] - 2s 2ms/step - loss: 0.3227 - accuracy: 0.9268 - val_loss: 0.2188 - val_accuracy: 0.9287\n",
            "Epoch 2/50\n",
            "899/899 [==============================] - 1s 2ms/step - loss: 0.2018 - accuracy: 0.9303 - val_loss: 0.1877 - val_accuracy: 0.9321\n",
            "Epoch 3/50\n",
            "899/899 [==============================] - 1s 2ms/step - loss: 0.1752 - accuracy: 0.9358 - val_loss: 0.1674 - val_accuracy: 0.9362\n",
            "Epoch 4/50\n",
            "899/899 [==============================] - 1s 2ms/step - loss: 0.1605 - accuracy: 0.9404 - val_loss: 0.1595 - val_accuracy: 0.9443\n",
            "Epoch 5/50\n",
            "899/899 [==============================] - 1s 2ms/step - loss: 0.1538 - accuracy: 0.9430 - val_loss: 0.1558 - val_accuracy: 0.9440\n",
            "Epoch 6/50\n",
            "899/899 [==============================] - 1s 2ms/step - loss: 0.1495 - accuracy: 0.9437 - val_loss: 0.1545 - val_accuracy: 0.9440\n",
            "Epoch 7/50\n",
            "899/899 [==============================] - 1s 2ms/step - loss: 0.1464 - accuracy: 0.9443 - val_loss: 0.1526 - val_accuracy: 0.9440\n",
            "Epoch 8/50\n",
            "899/899 [==============================] - 1s 2ms/step - loss: 0.1435 - accuracy: 0.9454 - val_loss: 0.1515 - val_accuracy: 0.9434\n",
            "Epoch 9/50\n",
            "899/899 [==============================] - 1s 2ms/step - loss: 0.1407 - accuracy: 0.9464 - val_loss: 0.1506 - val_accuracy: 0.9440\n",
            "Epoch 10/50\n",
            "899/899 [==============================] - 1s 2ms/step - loss: 0.1383 - accuracy: 0.9475 - val_loss: 0.1498 - val_accuracy: 0.9415\n",
            "Epoch 11/50\n",
            "899/899 [==============================] - 1s 2ms/step - loss: 0.1358 - accuracy: 0.9489 - val_loss: 0.1489 - val_accuracy: 0.9428\n",
            "Epoch 12/50\n",
            "899/899 [==============================] - 1s 2ms/step - loss: 0.1332 - accuracy: 0.9500 - val_loss: 0.1485 - val_accuracy: 0.9434\n",
            "Epoch 13/50\n",
            "899/899 [==============================] - 1s 2ms/step - loss: 0.1309 - accuracy: 0.9509 - val_loss: 0.1483 - val_accuracy: 0.9431\n",
            "Epoch 14/50\n",
            "899/899 [==============================] - 1s 2ms/step - loss: 0.1284 - accuracy: 0.9518 - val_loss: 0.1474 - val_accuracy: 0.9437\n",
            "Epoch 15/50\n",
            "899/899 [==============================] - 1s 2ms/step - loss: 0.1258 - accuracy: 0.9533 - val_loss: 0.1464 - val_accuracy: 0.9431\n",
            "Epoch 16/50\n",
            "899/899 [==============================] - 1s 2ms/step - loss: 0.1235 - accuracy: 0.9544 - val_loss: 0.1461 - val_accuracy: 0.9437\n",
            "Epoch 17/50\n",
            "899/899 [==============================] - 1s 2ms/step - loss: 0.1212 - accuracy: 0.9555 - val_loss: 0.1458 - val_accuracy: 0.9440\n",
            "Epoch 18/50\n",
            "899/899 [==============================] - 2s 2ms/step - loss: 0.1188 - accuracy: 0.9559 - val_loss: 0.1450 - val_accuracy: 0.9440\n",
            "Epoch 19/50\n",
            "899/899 [==============================] - 2s 2ms/step - loss: 0.1165 - accuracy: 0.9570 - val_loss: 0.1456 - val_accuracy: 0.9434\n",
            "Epoch 20/50\n",
            "899/899 [==============================] - 2s 2ms/step - loss: 0.1141 - accuracy: 0.9572 - val_loss: 0.1445 - val_accuracy: 0.9453\n",
            "Epoch 21/50\n",
            "899/899 [==============================] - 2s 2ms/step - loss: 0.1119 - accuracy: 0.9587 - val_loss: 0.1444 - val_accuracy: 0.9449\n",
            "Epoch 22/50\n",
            "899/899 [==============================] - 1s 2ms/step - loss: 0.1094 - accuracy: 0.9590 - val_loss: 0.1447 - val_accuracy: 0.9446\n",
            "Epoch 23/50\n",
            "899/899 [==============================] - 1s 2ms/step - loss: 0.1074 - accuracy: 0.9606 - val_loss: 0.1449 - val_accuracy: 0.9456\n",
            "Epoch 24/50\n",
            "899/899 [==============================] - 1s 2ms/step - loss: 0.1053 - accuracy: 0.9614 - val_loss: 0.1448 - val_accuracy: 0.9453\n",
            "Epoch 25/50\n",
            "899/899 [==============================] - 1s 2ms/step - loss: 0.1030 - accuracy: 0.9621 - val_loss: 0.1452 - val_accuracy: 0.9446\n",
            "Epoch 26/50\n",
            "899/899 [==============================] - 1s 2ms/step - loss: 0.1009 - accuracy: 0.9627 - val_loss: 0.1463 - val_accuracy: 0.9446\n",
            "Epoch 27/50\n",
            "899/899 [==============================] - 1s 2ms/step - loss: 0.0988 - accuracy: 0.9634 - val_loss: 0.1463 - val_accuracy: 0.9440\n",
            "Epoch 28/50\n",
            "899/899 [==============================] - 1s 2ms/step - loss: 0.0967 - accuracy: 0.9649 - val_loss: 0.1473 - val_accuracy: 0.9437\n",
            "Epoch 29/50\n",
            "899/899 [==============================] - 1s 2ms/step - loss: 0.0946 - accuracy: 0.9655 - val_loss: 0.1469 - val_accuracy: 0.9437\n",
            "Epoch 30/50\n",
            "899/899 [==============================] - 1s 2ms/step - loss: 0.0925 - accuracy: 0.9663 - val_loss: 0.1475 - val_accuracy: 0.9428\n",
            "Epoch 31/50\n",
            "899/899 [==============================] - 1s 2ms/step - loss: 0.0905 - accuracy: 0.9671 - val_loss: 0.1487 - val_accuracy: 0.9437\n",
            "Epoch 32/50\n",
            "899/899 [==============================] - 1s 2ms/step - loss: 0.0885 - accuracy: 0.9676 - val_loss: 0.1495 - val_accuracy: 0.9440\n",
            "Epoch 33/50\n",
            "899/899 [==============================] - 1s 2ms/step - loss: 0.0864 - accuracy: 0.9692 - val_loss: 0.1501 - val_accuracy: 0.9428\n",
            "Epoch 34/50\n",
            "899/899 [==============================] - 1s 2ms/step - loss: 0.0845 - accuracy: 0.9697 - val_loss: 0.1523 - val_accuracy: 0.9428\n",
            "Epoch 35/50\n",
            "899/899 [==============================] - 1s 2ms/step - loss: 0.0825 - accuracy: 0.9705 - val_loss: 0.1526 - val_accuracy: 0.9434\n",
            "Epoch 36/50\n",
            "899/899 [==============================] - 1s 2ms/step - loss: 0.0807 - accuracy: 0.9712 - val_loss: 0.1524 - val_accuracy: 0.9428\n",
            "Epoch 37/50\n",
            "899/899 [==============================] - 1s 2ms/step - loss: 0.0788 - accuracy: 0.9722 - val_loss: 0.1548 - val_accuracy: 0.9437\n",
            "Epoch 38/50\n",
            "899/899 [==============================] - 1s 2ms/step - loss: 0.0769 - accuracy: 0.9735 - val_loss: 0.1551 - val_accuracy: 0.9434\n",
            "Epoch 39/50\n",
            "899/899 [==============================] - 1s 2ms/step - loss: 0.0752 - accuracy: 0.9737 - val_loss: 0.1567 - val_accuracy: 0.9434\n",
            "Epoch 40/50\n",
            "899/899 [==============================] - 1s 2ms/step - loss: 0.0735 - accuracy: 0.9744 - val_loss: 0.1580 - val_accuracy: 0.9431\n",
            "Epoch 41/50\n",
            "899/899 [==============================] - 1s 2ms/step - loss: 0.0716 - accuracy: 0.9757 - val_loss: 0.1600 - val_accuracy: 0.9406\n",
            "Epoch 42/50\n",
            "899/899 [==============================] - 1s 2ms/step - loss: 0.0699 - accuracy: 0.9758 - val_loss: 0.1614 - val_accuracy: 0.9421\n",
            "Epoch 43/50\n",
            "899/899 [==============================] - 1s 2ms/step - loss: 0.0684 - accuracy: 0.9768 - val_loss: 0.1642 - val_accuracy: 0.9428\n",
            "Epoch 44/50\n",
            "899/899 [==============================] - 1s 2ms/step - loss: 0.0667 - accuracy: 0.9774 - val_loss: 0.1658 - val_accuracy: 0.9437\n",
            "Epoch 45/50\n",
            "899/899 [==============================] - 1s 2ms/step - loss: 0.0651 - accuracy: 0.9780 - val_loss: 0.1672 - val_accuracy: 0.9437\n",
            "Epoch 46/50\n",
            "899/899 [==============================] - 1s 2ms/step - loss: 0.0635 - accuracy: 0.9782 - val_loss: 0.1678 - val_accuracy: 0.9437\n",
            "Epoch 47/50\n",
            "899/899 [==============================] - 1s 2ms/step - loss: 0.0618 - accuracy: 0.9793 - val_loss: 0.1712 - val_accuracy: 0.9449\n",
            "Epoch 48/50\n",
            "899/899 [==============================] - 1s 2ms/step - loss: 0.0604 - accuracy: 0.9801 - val_loss: 0.1727 - val_accuracy: 0.9437\n",
            "Epoch 49/50\n",
            "899/899 [==============================] - 1s 2ms/step - loss: 0.0588 - accuracy: 0.9802 - val_loss: 0.1729 - val_accuracy: 0.9440\n",
            "Epoch 50/50\n",
            "899/899 [==============================] - 1s 2ms/step - loss: 0.0574 - accuracy: 0.9816 - val_loss: 0.1815 - val_accuracy: 0.9437\n"
          ],
          "name": "stdout"
        },
        {
          "output_type": "execute_result",
          "data": {
            "text/plain": [
              "<tensorflow.python.keras.callbacks.History at 0x7fa892072438>"
            ]
          },
          "metadata": {
            "tags": []
          },
          "execution_count": 50
        }
      ]
    },
    {
      "cell_type": "markdown",
      "metadata": {
        "id": "OtRrbYFW-f8x",
        "colab_type": "text"
      },
      "source": [
        "As we can see,our validation accuracy hit **94%.**"
      ]
    },
    {
      "cell_type": "markdown",
      "metadata": {
        "id": "vyaWUyLA-vjb",
        "colab_type": "text"
      },
      "source": [
        "Let's visualize the deviation between loss and validation loss."
      ]
    },
    {
      "cell_type": "code",
      "metadata": {
        "id": "oEsahWrytPoE",
        "colab_type": "code",
        "outputId": "7f30eb22-fd4b-4773-f344-ab4b48fe09d5",
        "colab": {
          "base_uri": "https://localhost:8080/",
          "height": 298
        }
      },
      "source": [
        "import matplotlib.pyplot as plt\n",
        "\n",
        "plt.plot(model.history.epoch, model.history.history['loss'],'b',\n",
        "         model.history.epoch, model.history.history['val_loss'], 'g')"
      ],
      "execution_count": 0,
      "outputs": [
        {
          "output_type": "execute_result",
          "data": {
            "text/plain": [
              "[<matplotlib.lines.Line2D at 0x7fa880836ef0>,\n",
              " <matplotlib.lines.Line2D at 0x7fa8808360b8>]"
            ]
          },
          "metadata": {
            "tags": []
          },
          "execution_count": 51
        },
        {
          "output_type": "display_data",
          "data": {
            "image/png": "[encoded data removed]",
            "text/plain": [
              "<Figure size 432x288 with 1 Axes>"
            ]
          },
          "metadata": {
            "tags": [],
            "needs_background": "light"
          }
        }
      ]
    },
    {
      "cell_type": "markdown",
      "metadata": {
        "id": "rUh0gP2A-3cp",
        "colab_type": "text"
      },
      "source": [
        "Let's visualize the deviation between accuracy and validation accuracy."
      ]
    },
    {
      "cell_type": "code",
      "metadata": {
        "id": "-G0VHIMktPmT",
        "colab_type": "code",
        "outputId": "fdb1050a-4c8f-40f9-d2d1-824c363457a3",
        "colab": {
          "base_uri": "https://localhost:8080/",
          "height": 298
        }
      },
      "source": [
        "plt.plot(model.history.epoch, model.history.history['accuracy'],'b',\n",
        "         model.history.epoch, model.history.history['val_accuracy'], 'g')"
      ],
      "execution_count": 0,
      "outputs": [
        {
          "output_type": "execute_result",
          "data": {
            "text/plain": [
              "[<matplotlib.lines.Line2D at 0x7fa88092ceb8>,\n",
              " <matplotlib.lines.Line2D at 0x7fa88092cb70>]"
            ]
          },
          "metadata": {
            "tags": []
          },
          "execution_count": 52
        },
        {
          "output_type": "display_data",
          "data": {
            "image/png": "[encoded data removed]",
            "text/plain": [
              "<Figure size 432x288 with 1 Axes>"
            ]
          },
          "metadata": {
            "tags": [],
            "needs_background": "light"
          }
        }
      ]
    },
    {
      "cell_type": "markdown",
      "metadata": {
        "id": "4YvZrPSoqkNR",
        "colab_type": "text"
      },
      "source": [
        "**PREDICTING LABEL FROM TEST DATASET**"
      ]
    },
    {
      "cell_type": "code",
      "metadata": {
        "id": "lEFGEnX3phgh",
        "colab_type": "code",
        "outputId": "c3ab5bae-8384-43fa-feea-5991d6493ddb",
        "colab": {
          "base_uri": "https://localhost:8080/",
          "height": 34
        }
      },
      "source": [
        "scaled1.shape"
      ],
      "execution_count": 0,
      "outputs": [
        {
          "output_type": "execute_result",
          "data": {
            "text/plain": [
              "(17197, 220)"
            ]
          },
          "metadata": {
            "tags": []
          },
          "execution_count": 86
        }
      ]
    },
    {
      "cell_type": "markdown",
      "metadata": {
        "id": "5FA09uf-rpzH",
        "colab_type": "text"
      },
      "source": [
        "Argmax is most commonly used in machine learning for finding the class with the largest predicted probability"
      ]
    },
    {
      "cell_type": "code",
      "metadata": {
        "id": "ON8g2pqaETlT",
        "colab_type": "code",
        "outputId": "dde7fafd-39f9-4c17-db3b-c695abfb0168",
        "colab": {
          "base_uri": "https://localhost:8080/",
          "height": 34
        }
      },
      "source": [
        "np.argmax(model.predict(scaled1[1:5]))\n",
        "#Returns indices of the max element of the array in a particular axis."
      ],
      "execution_count": 0,
      "outputs": [
        {
          "output_type": "execute_result",
          "data": {
            "text/plain": [
              "2"
            ]
          },
          "metadata": {
            "tags": []
          },
          "execution_count": 96
        }
      ]
    },
    {
      "cell_type": "code",
      "metadata": {
        "id": "ErTTzfhhHeyG",
        "colab_type": "code",
        "outputId": "5cf29fa7-8ee2-4eb9-9a66-783d6e2bee93",
        "colab": {
          "base_uri": "https://localhost:8080/",
          "height": 34
        }
      },
      "source": [
        "target[1]"
      ],
      "execution_count": 0,
      "outputs": [
        {
          "output_type": "execute_result",
          "data": {
            "text/plain": [
              "0"
            ]
          },
          "metadata": {
            "tags": []
          },
          "execution_count": 97
        }
      ]
    },
    {
      "cell_type": "markdown",
      "metadata": {
        "id": "PTXMV0BztWkR",
        "colab_type": "text"
      },
      "source": [
        "# **CONCLUSION**"
      ]
    },
    {
      "cell_type": "markdown",
      "metadata": {
        "id": "szgVIr-Fw7Qu",
        "colab_type": "text"
      },
      "source": [
        "Using the TWITER DATASET we tried to predict the hate speeches in tweets.As our dataset had only raw sentences in the beginning, we started with preprocessing and exploration of data.Then we extracted features from the cleaned text using Bag-of-Words and TF-IDF.After that,we used **KERAS** model to train the dataset and  got an accuracy of **94** percent.And we also predicted the label in our test dataset.\n",
        "\n",
        "Here,we could successfully do natural language processing and get the desired output(twitter sentiment analysis) from the tweets.Finally,we have learned how to approach  sentiment analysis problems having raw data ."
      ]
    }
  ]
}